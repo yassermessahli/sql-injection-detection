{
 "cells": [
  {
   "cell_type": "markdown",
   "id": "5369fd10-b742-451c-b594-397b4baa0509",
   "metadata": {},
   "source": [
    "# Setup the data"
   ]
  },
  {
   "cell_type": "markdown",
   "id": "33dddcc7-3964-4a2a-a3c7-83cc4b512685",
   "metadata": {},
   "source": [
    "Setup and Process the data for deep learning model, this notebook includes:\n",
    "\n",
    "- [Setup the tokenizer](#Setup-the-tokenizer)  \n",
    "    1. [Download existing vocabulary](#1.-Download-existing-vocabulary)\n",
    "    2. [Make changes](#2.-Make-changes)\n",
    "\n",
    "\n",
    "- [Data Processing](#Data-Processing)\n",
    "    1. [Load the data](#1.-Load-the-data)\n",
    "    2. [Cleaning](#2.-Cleaning)\n",
    "    3. [Tokenization](#3.-Tokenization)\n",
    "    4. [Padding](#4.-Padding)\n",
    "    5. [Saving Results](#5.-Saving-Results)"
   ]
  },
  {
   "cell_type": "markdown",
   "id": "5d0fd32b-90fc-42e7-8f0f-f188c500c1e1",
   "metadata": {},
   "source": [
    "- Load dependencies"
   ]
  },
  {
   "cell_type": "code",
   "execution_count": 5,
   "id": "0d47a639-5fb0-46c8-a8b5-d7f11811027a",
   "metadata": {},
   "outputs": [],
   "source": [
    "import pandas as pd\n",
    "import numpy as np\n",
    "import seaborn as sns\n",
    "import matplotlib.pyplot as plt\n",
    "\n",
    "import pprint\n",
    "import lorem\n",
    "import random\n",
    "import re\n",
    "import os\n",
    "import json\n",
    "\n",
    "from transformers import BertTokenizer, GPT2Tokenizer"
   ]
  },
  {
   "cell_type": "markdown",
   "id": "4b349118-0c5e-4c33-a211-8ad568451d81",
   "metadata": {},
   "source": [
    "## Setup the tokenizer"
   ]
  },
  {
   "cell_type": "markdown",
   "id": "ed8ee81c-9f32-43f2-91d3-9bf71dd9c62a",
   "metadata": {},
   "source": [
    "### 1. Download existing vocabulary"
   ]
  },
  {
   "cell_type": "markdown",
   "id": "544d914c-0e83-4ae8-89ae-76fb9c458f6a",
   "metadata": {},
   "source": [
    "We will use GPT2 Pre-trained tokenizer's vocabulary, this vocabulary contains most important words. it has about 50000 words, including special caracters."
   ]
  },
  {
   "cell_type": "code",
   "execution_count": 2,
   "id": "336d4607-ba6c-4964-af02-3d2bd6fac810",
   "metadata": {},
   "outputs": [
    {
     "ename": "NameError",
     "evalue": "name 'GPT2Tokenizer' is not defined",
     "output_type": "error",
     "traceback": [
      "\u001b[1;31m---------------------------------------------------------------------------\u001b[0m",
      "\u001b[1;31mNameError\u001b[0m                                 Traceback (most recent call last)",
      "Cell \u001b[1;32mIn[2], line 10\u001b[0m\n\u001b[0;32m      6\u001b[0m     \u001b[38;5;28mprint\u001b[39m(\u001b[38;5;124mf\u001b[39m\u001b[38;5;124m\"\u001b[39m\u001b[38;5;132;01m{\u001b[39;00mname\u001b[38;5;132;01m}\u001b[39;00m\u001b[38;5;124m vocabulary downloaded to path: \u001b[39m\u001b[38;5;132;01m{\u001b[39;00mpath\u001b[38;5;132;01m}\u001b[39;00m\u001b[38;5;124m\"\u001b[39m)\n\u001b[0;32m      9\u001b[0m path \u001b[38;5;241m=\u001b[39m \u001b[38;5;124m\"\u001b[39m\u001b[38;5;124m../datasets/clean/gpt2vocab\u001b[39m\u001b[38;5;124m\"\u001b[39m\n\u001b[1;32m---> 10\u001b[0m \u001b[43mdownload_vocab\u001b[49m\u001b[43m(\u001b[49m\u001b[43mpath\u001b[49m\u001b[38;5;241;43m=\u001b[39;49m\u001b[43mpath\u001b[49m\u001b[43m)\u001b[49m\n",
      "Cell \u001b[1;32mIn[2], line 2\u001b[0m, in \u001b[0;36mdownload_vocab\u001b[1;34m(name, path)\u001b[0m\n\u001b[0;32m      1\u001b[0m \u001b[38;5;28;01mdef\u001b[39;00m \u001b[38;5;21mdownload_vocab\u001b[39m(name\u001b[38;5;241m=\u001b[39m\u001b[38;5;124m\"\u001b[39m\u001b[38;5;124mgpt2\u001b[39m\u001b[38;5;124m\"\u001b[39m, path\u001b[38;5;241m=\u001b[39m\u001b[38;5;124m\"\u001b[39m\u001b[38;5;124m./\u001b[39m\u001b[38;5;124m\"\u001b[39m):\n\u001b[1;32m----> 2\u001b[0m     tok \u001b[38;5;241m=\u001b[39m \u001b[43mGPT2Tokenizer\u001b[49m\u001b[38;5;241m.\u001b[39mfrom_pretrained(name)\n\u001b[0;32m      3\u001b[0m     tok\u001b[38;5;241m.\u001b[39msave_pretrained(path)\n\u001b[0;32m      4\u001b[0m     os\u001b[38;5;241m.\u001b[39mremove(os\u001b[38;5;241m.\u001b[39mpath\u001b[38;5;241m.\u001b[39mjoin(path, \u001b[38;5;124m\"\u001b[39m\u001b[38;5;124mtokenizer_config.json\u001b[39m\u001b[38;5;124m\"\u001b[39m))\n",
      "\u001b[1;31mNameError\u001b[0m: name 'GPT2Tokenizer' is not defined"
     ]
    }
   ],
   "source": [
    "def download_vocab(name=\"gpt2\", path=\"./\"):\n",
    "    tok = GPT2Tokenizer.from_pretrained(name)\n",
    "    tok.save_pretrained(path)\n",
    "    os.remove(os.path.join(path, \"tokenizer_config.json\"))\n",
    "    os.remove(os.path.join(path, \"special_tokens_map.json\"))\n",
    "    print(f\"{name} vocabulary downloaded to path: {path}\")\n",
    "\n",
    "\n",
    "path = \"../datasets/clean/gpt2vocab\"\n",
    "download_vocab(path=path)"
   ]
  },
  {
   "cell_type": "markdown",
   "id": "f4bee694-9f1b-47b9-b43b-0cb2da26aacb",
   "metadata": {},
   "source": [
    "### 2. Make changes"
   ]
  },
  {
   "cell_type": "markdown",
   "id": "2c012c8f-be4f-49c2-8939-c3d3fb7e0a34",
   "metadata": {},
   "source": [
    "The vocabulary has so many meaningless words and irrelevant caracters. So we need to make some changes on it and reduce the vocabulary as much as we can and keep it simple to avoid comlexity later on in training phase.\n",
    "\n",
    "**Here are a summary of the changes we will apply on the vocabulary:**\n",
    "- remove irrelevant words and caracters.\n",
    "- lowercase all the words.\n",
    "- assign the id `1` on all non-sql words.\n",
    "- Add some usefull placeholders ofr later usage, and assign and id for each.\n",
    "- add special general caracters, adn assign an id for each.\n",
    "\n",
    "\n",
    "**NOTE:** Some changes should be done manualy from text editor..."
   ]
  },
  {
   "cell_type": "markdown",
   "id": "0c4d3def-b356-42eb-a0af-3b22494cb3db",
   "metadata": {},
   "source": [
    "1. remove some irrelevant words and special caracters"
   ]
  },
  {
   "cell_type": "code",
   "execution_count": 7,
   "id": "d417e7c7-ca31-4608-a881-ea332bd2bc10",
   "metadata": {},
   "outputs": [
    {
     "name": "stdout",
     "output_type": "stream",
     "text": [
      "Regex to remove:\n",
      "{'^(.)\\\\1{2,}$': 'm', '-?\\\\d+': 's', '\\\\\\\\u[0-9a-fA-F]{4}': 's', '([@$,%^!&*)(._+\\\\-=\\\\[\\\\]}{;\":\\\\\\\\|,.<>?/~`]{2,})': 'm'}\n",
      "====================================================================================================\n",
      "initial vocab length: 50257\n",
      "====================================================================================================\n",
      "to delete:\n",
      "['!!!', '!!!!', '!!!!!', '!!!!!!!!', '\"\"\"', '###', '####', '########', '################', '################################', '$$$$', '%%%%', \"''''\", ')))', '))))', '***', '****', '*****', '********', '************', '****************', '********************************', '+++', '++++', '++++++++', '++++++++++++++++', ',,,,', ',,,,,,,,', '---', '----', '-----', '------', '-------', '--------', '---------', '----------', '-----------', '------------', '-------------', '--------------', '---------------', '----------------', '--------------------', '------------------------', '--------------------------------', '------------------------------------------------', '--------------------------------------------------------', '----------------------------------------------------------------', '...', '....', '.....', '......', '.......', '........', '.........', '.............', '................', '..................', '........................', '................................', '................................................................', '///', '////', '////////', '////////////////', '////////////////////////////////', '000', '0000', '00000', '000000', '0000000', '00000000', '0000000000000000', '111', '1111', '222', '333', '3333', '444', '555', '666', '6666', '66666666', '777', '888', '999', '9999', '::::', '::::::::', ';;;;', ';;;;;;;;', ';;;;;;;;;;;;', '===', '====', '======', '========', '============', '================', '================================', '================================================================', '>>>', '>>>>', '>>>>>>>>', '???', '????', '?????', '????????', '@@@@', '@@@@@@@@', 'AAA', 'AAAA', 'AAAAAAAA', 'CCC', 'EEE', 'EEEE', 'FFFF', 'GGGG', 'GGGGGGGG', 'HHHH', 'III', 'OOOO', 'OOOOOOOO', 'XXX', 'XXXX', '\\\\\\\\\\\\\\\\', '\\\\\\\\\\\\\\\\\\\\\\\\\\\\\\\\', '\\\\\\\\\\\\\\\\\\\\\\\\\\\\\\\\\\\\\\\\\\\\\\\\\\\\\\\\\\\\\\\\', '^^^^', '___', '____', '_____', '______', '_______', '________', '________________', '________________________', '________________________________', '________________________________________________________________', '````', 'aaa', 'aaaa', 'eeee', 'fff', 'ffff', 'hhh', 'hhhh', 'iii', 'mmm', 'mmmm', 'ooo', 'oooo', 'oooooooo', 'oooooooooooooooo', 'www', 'xxx', 'xxxx', 'xxxxxxxx', '||||', '}}}', '~~~~', '~~~~~~~~', '~~~~~~~~~~~~~~~~', '0', '00', '000', '0000', '00000', '000000', '0000000', '00000000', '0000000000000000', '00007', '0001', '0002', '001', '0010', '002', '00200000', '003', '004', '005', '006', '007', '008', '009', '01', '010', '0100', '011', '012', '013', '014', '015', '016', '017', '018', '019', '02', '020', '0200', '021', '022', '023', '024', '025', '026', '027', '028', '029', '03', '030', '031', '032', '033', '034', '035', '036', '04', '040', '041', '043', '044', '045', '046', '047', '048', '05', '050', '052', '055', '057', '059', '06', '060', '07', '070', '075', '08', '080', '083', '088', '089', '09', '090', '1', '10', '100', '1000', '10000', '1001', '1007', '101', '1016', '102', '1024', '1027', '103', '104', '105', '106', '107', '108', '1080', '109', '11', '110', '1100', '111', '1111', '112', '113', '114', '115', '116', '117', '118', '119', '12', '120', '1200', '121', '122', '123', '124', '125', '126', '127', '128', '129', '13', '130', '131', '132', '133', '134', '135', '136', '137', '138', '139', '14', '140', '141', '142', '143', '144', '145', '146', '147', '148', '149', '15', '150', '1500', '151', '152', '153', '154', '155', '156', '157', '158', '159', '16', '160', '1600', '161', '162', '163', '164', '165', '166', '167', '168', '169', '17', '170', '171', '172', '173', '174', '175', '176', '177', '178', '179', '18', '180', '1800', '181', '182', '183', '184', '185', '186', '187', '188', '189', '19', '190', '1900', '191', '192', '1920', '193', '194', '1945', '195', '1950', '1959', '196', '1960', '1963', '1964', '1965', '1966', '1967', '1968', '1969', '197', '1970', '1971', '1972', '1973', '1974', '1975', '1976', '1977', '1978', '1979', '198', '1980', '1981', '1982', '1983', '1984', '1985', '1986', '1987', '1988', '1989', '199', '1990', '1991', '1992', '1993', '1994', '1995', '1996', '1997', '1998', '1999', '2', '20', '200', '2000', '200000', '2001', '2002', '2003', '2004', '2005', '2006', '2007', '2008', '2009', '201', '2010', '2011', '2012', '2013', '2014', '2015', '2016', '2017', '2018', '2019', '202', '2020', '203', '204', '20439', '205', '206', '207', '208', '209', '21', '210', '211', '212', '213', '214', '215', '216', '217', '218', '219', '22', '220', '2200', '221', '222', '223', '224', '225', '226', '227', '228', '229', '23', '230', '231', '232', '233', '234', '235', '236', '237', '238', '239', '24', '240', '241', '242', '243', '244', '245', '246', '247', '248', '249', '25', '250', '2500', '251', '252', '253', '254', '255', '256', '257', '258', '259', '26', '260', '261', '262', '263', '264', '265', '266', '267', '268', '269', '27', '270', '271', '272', '273', '274', '275', '276', '277', '278', '279', '28', '280', '281', '282', '283', '284', '285', '286', '287', '288', '289', '29', '290', '291', '292', '293', '294', '295', '296', '297', '298', '299', '3', '30', '300', '3000', '301', '302', '303', '304', '305', '306', '307', '308', '309', '31', '310', '311', '312', '313', '314', '315', '316', '317', '318', '319', '32', '320', '321', '322', '323', '324', '325', '326', '327', '328', '329', '33', '330', '331', '332', '333', '3333', '334', '335', '336', '337', '338', '339', '34', '340', '341', '342', '343', '344', '345', '346', '347', '348', '349', '35', '350', '351', '352', '353', '354', '355', '356', '357', '358', '359', '36', '360', '361', '362', '363', '364', '365', '366', '367', '368', '369', '37', '370', '371', '372', '373', '374', '375', '376', '377', '378', '379', '38', '380', '381', '382', '383', '384', '385', '386', '387', '388', '389', '39', '390', '391', '392', '393', '394', '395', '396', '397', '398', '399', '4', '40', '400', '4000', '401', '402', '403', '404', '405', '406', '407', '408', '409', '41', '410', '411', '412', '413', '414', '415', '416', '417', '418', '419', '42', '420', '421', '422', '423', '424', '425', '426', '427', '428', '429', '43', '430', '431', '432', '433', '434', '435', '436', '437', '438', '439', '44', '440', '441', '442', '443', '444', '445', '446', '447', '448', '449', '45', '450', '451', '452', '453', '454', '455', '456', '457', '458', '459', '46', '460', '461', '462', '463', '464', '465', '466', '467', '468', '469', '47', '470', '471', '472', '473', '474', '475', '476', '477', '478', '479', '48', '480', '481', '482', '483', '484', '485', '486', '487', '488', '489', '49', '490', '491', '492', '493', '494', '495', '496', '497', '498', '499', '5', '50', '500', '5000', '501', '502', '503', '504', '505', '506', '507', '508', '509', '51', '510', '511', '512', '513', '514', '515', '516', '517', '518', '519', '52', '520', '522', '523', '524', '525', '526', '528', '529', '53', '530', '533', '535', '536', '537', '538', '54', '540', '544', '545', '546', '548', '549', '55', '550', '551', '552', '553', '554', '555', '556', '557', '558', '559', '56', '560', '561', '562', '563', '565', '568', '57', '570', '571', '572', '573', '574', '575', '576', '577', '578', '579', '58', '580', '581', '582', '583', '584', '585', '586', '587', '588', '589', '59', '590', '591', '592', '593', '594', '595', '596', '597', '598', '599', '6', '60', '600', '6000', '601', '602', '603', '604', '605', '606', '607', '608', '609', '61', '610', '612', '613', '614', '615', '616', '617', '618', '62', '620', '623', '625', '626', '627', '628', '629', '63', '630', '635', '64', '640', '641', '642', '643', '644', '645', '646', '647', '648', '649', '65', '650', '651', '652', '653', '654', '655', '656', '657', '658', '659', '66', '660', '661', '662', '663', '665', '666', '6666', '66666666', '667', '668', '669', '67', '670', '671', '672', '673', '674', '675', '676', '677', '678', '679', '68', '680', '681', '682', '683', '684', '685', '686', '687', '688', '689', '69', '690', '691', '692', '693', '694', '695', '696', '697', '698', '699', '7', '70', '700', '701', '702', '703', '704', '705', '706', '707', '70710', '708', '709', '71', '710', '712', '713', '714', '718', '72', '720', '725', '727', '728', '729', '73', '730', '733', '736', '74', '740', '745', '747', '748', '75', '750', '751', '752', '753', '754', '755', '756', '757', '758', '759', '76', '760', '7601', '762', '763', '765', '76561', '767', '768', '77', '770', '771', '772', '773', '774', '775', '776', '777', '778', '779', '78', '780', '781', '782', '783', '784', '785', '786', '787', '789', '79', '790', '792', '793', '794', '795', '796', '797', '798', '799', '8', '80', '800', '8000', '801', '802', '803', '804', '805', '806', '807', '808', '809', '81', '810', '815', '82', '820', '825', '83', '830', '833', '84', '840', '85', '850', '855', '86', '860', '864', '866', '87', '870', '875', '877', '88', '880', '882', '883', '884', '885', '886', '887', '888', '889', '89', '893', '896', '899', '9', '90', '900', '901', '905', '909', '91', '910', '911', '915', '916', '92', '920', '925', '93', '930', '94', '940', '949', '95', '950', '951', '952', '953', '954', '956', '96', '960', '968', '969', '97', '970', '975', '978', '98', '980', '985', '986', '987', '989', '99', '990', '992', '993', '994', '995', '996', '997', '998', '999', '9999', '!!', '!!!', '!!!!', '!!!!!', '!!!!!!!!', '!!\"', '!\"', '!\",', '!\".', '!)', '!),', '!).', '!,', '!--', '!.', '!/', '!:', '!?', '!?\"', '!]', '\"!', '\"\"', '\"\"\"', '\"(', '\")', '\"))', '\"),', '\").', '\");', '\",', '\",\"', '\"-', '\".', '\"...', '\".[', '\"/>', '\":', '\":\"', '\":\"\",\"', '\":\"\"},{\"', '\":\"/', '\":-', '\":[', '\":[\"', '\":[{\"', '\":{\"', '\";', '\">', '\"><', '\"></', '\"?', '\"[', '\"]', '\"],', '\"],\"', '\"]=>', '\"}', '\"},', '\"},\"', '\"},{\"', '\"}],\"', '$$', '$$$$', '$,', '$.', '${', '%\"', '%%', '%%%%', '%)', '%),', '%).', '%);', '%,', '%-', '%.', '%:', '%;', '%]', '&&', '(\"', '($', '(&', '((', '()', '())', '());', '(),', '().', '():', '();', '(){', '(*', '(-', '([', '(\\\\', '(_', '({', ')!', ')\"', ')\",', ')(', '))', ')))', '))))', ')),', ')).', '));', ')*', ')+', '),', '),\"', ')-', ')--', ').', ').\"', ')...', ').[', ')/', '):', ');', ')</', ')=', ')=(', ')?', ')[', ')\\\\', ')]', ')].', '){', ')|', ')}', '*)', '**', '***', '****', '*****', '********', '************', '****************', '********************************', '*,', '*.', '*/', '*/(', '*:', '*=-', '+(', '+)', '++', '++)', '+++', '++++', '++++++++', '++++++++++++++++', '++;', '+,', '+.', '+=', ',\"', ',)', ',,', ',,,,', ',,,,,,,,', ',-', ',.', ',...', ',[', '-\"', '-$', '-(', '-)', '-+', '-+-+', '-+-+-+-+', '-,', '--', '--+', '---', '----', '-----', '------', '-------', '--------', '---------', '----------', '-----------', '------------', '-------------', '--------------', '---------------', '----------------', '--------------------', '------------------------', '--------------------------------', '------------------------------------------------', '--------------------------------------------------------', '----------------------------------------------------------------', '-->', '-.', '->', '-[', '-|', '.\"', '.\"\"', '.\")', '.\",', '.\",\"', '.\"[', '.$', '.(', '.)', '.),', '.).', '.):', '.*', '.,', '.,\"', '.-', '.--', '..', '...', '...\"', '...)', '....', '.....', '......', '.......', '........', '.........', '.............', '................', '..................', '........................', '................................', '................................................................', '...?', '...]', '../', './', '.:', '.;', '.<', '.</', '.>>', '.?', '.[', '.]', '._', '.}', '/\"', '/$', '/(', '/)', '/*', '/**', '/+', '/,', '/-', '/.', '//', '///', '////', '////////', '////////////////', '////////////////////////////////', '/>', '/?', '/_', ':\"', ':(', ':,', ':-', ':/', '://', '::', '::::', '::::::::', ':[', ':\\\\', ':]', ':{', ';\"', ';;', ';;;;', ';;;;;;;;', ';;;;;;;;;;;;', ';}', '</', '<<', '<?', '=\"', '=\"\"', '=\"/', '=$', '=(', '=-', '=-=-', '=-=-=-=-', '=-=-=-=-=-=-=-=-', '=/', '==', '===', '====', '======', '========', '============', '================', '================================', '================================================================', '=>', '=[', '=\\\\\"', '=]', '={', '=~', '=~=~', '>\"', '>(', '>)', '>,', '>.', '>:', '><', '></', '>>', '>>>', '>>>>', '>>>>>>>>', '>>\\\\', '>[', '>]', '?!', '?!\"', '?\"', '?\",', '?\".', '?)', '?),', '?).', '?,', '?:', '??', '???', '????', '?????', '?????-', '?????-?????-', '????????', '?]', '@@', '@@@@', '@@@@@@@@', '[\"', '[/', '[[', '[]', '[_', '\\\\\"', '\\\\\",', '\\\\\":', '\\\\\">', '\\\\)', '\\\\-', '\\\\.', '\\\\/', '\\\\/\\\\/', '\\\\<', '\\\\\\\\', '\\\\\\\\\\\\\\\\', '\\\\\\\\\\\\\\\\\\\\\\\\\\\\\\\\', '\\\\\\\\\\\\\\\\\\\\\\\\\\\\\\\\\\\\\\\\\\\\\\\\\\\\\\\\\\\\\\\\', ']\"', '](', '])', ']),', ']).', ']);', ']+', '],', '],\"', '],[', ']-', '].', '].\"', ']:', '];', ']=', '][', '][/', ']]', ']}', '^^', '^^^^', '^{', '_(', '_-', '_-_', '_.', '_>', '__', '___', '____', '_____', '______', '_______', '________', '________________', '________________________', '________________________________', '________________________________________________________________', '_{', '`,', '`.', '``', '````', '{\"', '{\\\\', '{{', '||', '||||', '}\"', '})', '});', '},', '},\"', '},{\"', '}.', '}:', '};', '}\\\\', '}{', '}}', '}}}', '~~', '~~~~', '~~~~~~~~', '~~~~~~~~~~~~~~~~'] \n",
      "\n",
      "====================================================================================================\n",
      "final vocab length: 48786\n",
      "====================================================================================================\n",
      "done!\n"
     ]
    }
   ],
   "source": [
    "import  re\n",
    "import os\n",
    "import json\n",
    "\n",
    "src_path = \"../datasets/clean/gpt2vocab/vocab.json\"\n",
    "\n",
    "# some rules to delete\n",
    "regex = {\n",
    "    r'^(.)\\1{2,}$': \"m\",                                    # match repetitive letters (3 or more)\n",
    "    r'-?\\d+': \"s\",                                          # search integers\n",
    "    r'\\\\u[0-9a-fA-F]{4}': \"s\",                              # search unicode caracters\n",
    "    r'([@$,%^!&*)(._+\\-=\\[\\]}{;\":\\\\|,.<>?/~`]{2,})': \"m\",   # random special caracters\n",
    "}\n",
    "\n",
    "print(\"Regex to remove:\")\n",
    "print(regex)\n",
    "print(\"=\"*100)\n",
    "\n",
    "with open(src_path, \"r\", encoding=\"utf-8\") as f:\n",
    "    vocab = json.load(f)\n",
    "    print(f\"initial vocab length: {len(vocab)}\")\n",
    "    print(\"=\"*100)\n",
    "    to_delete = []\n",
    "    print(\"to delete:\")\n",
    "    for r, t in regex.items():\n",
    "        if t == \"m\":\n",
    "            for word, id in vocab.items():\n",
    "                if bool(re.fullmatch(r, word)):\n",
    "                    # delete word from vocab\n",
    "                    to_delete.append(word)\n",
    "        else:\n",
    "            for word, id in vocab.items():\n",
    "                if bool(re.match(r, word)):\n",
    "                    # delete word from vocab\n",
    "                    to_delete.append(word)\n",
    "        \n",
    "    print(to_delete, \"\\n\")\n",
    "    for word in set(to_delete):\n",
    "        del vocab[word]\n",
    "        \n",
    "    print(\"=\"*100) \n",
    "    print(f\"final vocab length: {len(vocab)}\")\n",
    "    print(\"=\"*100)\n",
    "\n",
    "dest_path = \"../utils/tokenier/vocab/vocab.json\"\n",
    "with open(dest_path, \"w\") as f:\n",
    "    json.dump(vocab, f, indent=4)\n",
    "    \n",
    "print(\"done!\")"
   ]
  },
  {
   "cell_type": "markdown",
   "id": "62bbd75a-b842-4051-a079-327802450556",
   "metadata": {},
   "source": [
    "2. Lowercase all words and assign the id **`1`** for each"
   ]
  },
  {
   "cell_type": "markdown",
   "id": "06800b70-930a-4d34-8526-b29dfd7dfba2",
   "metadata": {},
   "source": [
    "**NOTE:** the following two cells should be run one single time"
   ]
  },
  {
   "cell_type": "code",
   "execution_count": 3,
   "id": "3bd54ed4-ae3e-48ca-a695-b5acefe1448c",
   "metadata": {},
   "outputs": [
    {
     "ename": "NameError",
     "evalue": "name 'dest_path' is not defined",
     "output_type": "error",
     "traceback": [
      "\u001b[1;31m---------------------------------------------------------------------------\u001b[0m",
      "\u001b[1;31mNameError\u001b[0m                                 Traceback (most recent call last)",
      "Cell \u001b[1;32mIn[3], line 1\u001b[0m\n\u001b[1;32m----> 1\u001b[0m \u001b[38;5;28;01mwith\u001b[39;00m \u001b[38;5;28mopen\u001b[39m(\u001b[43mdest_path\u001b[49m, \u001b[38;5;124m\"\u001b[39m\u001b[38;5;124mr\u001b[39m\u001b[38;5;124m\"\u001b[39m) \u001b[38;5;28;01mas\u001b[39;00m f:\n\u001b[0;32m      2\u001b[0m     vocab \u001b[38;5;241m=\u001b[39m json\u001b[38;5;241m.\u001b[39mload(f)    \n\u001b[0;32m      3\u001b[0m     \u001b[38;5;28mprint\u001b[39m(\u001b[38;5;124mf\u001b[39m\u001b[38;5;124m\"\u001b[39m\u001b[38;5;124minitial length: \u001b[39m\u001b[38;5;132;01m{\u001b[39;00m\u001b[38;5;28mlen\u001b[39m(vocab)\u001b[38;5;132;01m}\u001b[39;00m\u001b[38;5;124m\"\u001b[39m)\n",
      "\u001b[1;31mNameError\u001b[0m: name 'dest_path' is not defined"
     ]
    }
   ],
   "source": [
    "with open(dest_path, \"r\") as f:\n",
    "    vocab = json.load(f)    \n",
    "    print(f\"initial length: {len(vocab)}\")\n",
    "    new_vocab = {key.lower(): 1 for key, value in vocab.items()}\n",
    "    print(f\"new length: {len(new_vocab)}\")\n",
    "\n",
    "with open(dest_path, \"w\") as f:\n",
    "    json.dump(new_vocab, f, indent=4)"
   ]
  },
  {
   "cell_type": "markdown",
   "id": "a1b9f987-07cc-4a56-8219-c77ca477a1ba",
   "metadata": {},
   "source": [
    "3. Add some usefull plchoders for later usage, and assign an **`id`** for each"
   ]
  },
  {
   "cell_type": "code",
   "execution_count": 10,
   "id": "82f2de6e-3cc2-4058-877c-6f8015091f9e",
   "metadata": {},
   "outputs": [
    {
     "name": "stdout",
     "output_type": "stream",
     "text": [
      "Initial vocab length: 31557\n",
      "done!\n",
      "New vocab length: 31652\n"
     ]
    }
   ],
   "source": [
    "keywords_file_path = \"../datasets/clean/keywords.txt\"\n",
    "vocab_file_path = \"../utils/tokenier/vocab/vocab.json\"\n",
    "\n",
    "i = 1\n",
    "with open(keywords_file_path, \"r\") as keywords_file, open(vocab_file_path, \"r\") as vocab_file:\n",
    "    vocab = json.load(vocab_file)\n",
    "    print(f\"Initial vocab length: {len(vocab)}\")\n",
    "    for kw in keywords_file:\n",
    "        vocab[kw.lower().replace(\"\\n\", \"\")] = i + 1\n",
    "        i += 1\n",
    "\n",
    "i -= 1\n",
    "placeholders = [\"<EMAIL>\", \"<SUB>\", \"<TIME>\", \"<DATE>\", \"<SERIES>\", \"<NUMBER>\", \"<REPETITIVE>\", \"<SINGLE>\", \"<REGEX>\", \"<SPECIAL>\"]\n",
    "for p in placeholders:\n",
    "    vocab[p] = i + 1\n",
    "    i += 1\n",
    "\n",
    "\n",
    "\n",
    "with open(vocab_file_path, \"w\") as f:\n",
    "    json.dump(vocab, f, indent=4)\n",
    "    \n",
    "print(\"done!\")\n",
    "print(f\"New vocab length: {len(vocab)}\")"
   ]
  },
  {
   "cell_type": "markdown",
   "id": "ef6d95e3-7279-47be-aba1-fa8b7442191e",
   "metadata": {},
   "source": [
    "4. Add general caracters and assign an **`id`** for each"
   ]
  },
  {
   "cell_type": "code",
   "execution_count": 11,
   "id": "e9b15a39-9dc0-45d0-983b-f52936984595",
   "metadata": {},
   "outputs": [],
   "source": [
    "special_characters = [\n",
    "    \"*\", \"(\", \")\", \"[\", \"]\", \"{\", \"}\", \".\", \",\", \":\", \";\", \n",
    "    \"+\", \"-\", \"=\", \">\", \"<\", \"?\", \"/\", \"\\\\\", \"|\", \"\\\"\", \"'\",\n",
    "    \"~\", \"`\", \"^\", \"%\", \"&\", \"$\", \"#\", \"@\", \"!\", \"#\", \"==\",\n",
    "    \"_\", \"**\", \"^\", \"!=\", \"<=\", \">=\"\n",
    "]\n",
    "\n",
    "i -= 1\n",
    "for s in special_characters:\n",
    "    vocab[s] = i + 1\n",
    "    i += 1\n",
    "\n",
    "with open(vocab_file_path, \"w\") as f:\n",
    "    json.dump(vocab, f, indent=4)"
   ]
  },
  {
   "cell_type": "markdown",
   "id": "baadb045-385f-4319-afbe-2d666f8852db",
   "metadata": {},
   "source": [
    "The vocabulary is ready and it stored in the path **`vocab_file_path`**"
   ]
  },
  {
   "cell_type": "markdown",
   "id": "3906257c-ba33-4878-9a86-bf5e958ebe9d",
   "metadata": {},
   "source": [
    "## Data Processing"
   ]
  },
  {
   "cell_type": "markdown",
   "id": "80c7ab50-6cc7-4229-9fd5-158d6af5b2ba",
   "metadata": {},
   "source": [
    "### 1. Load the data"
   ]
  },
  {
   "cell_type": "markdown",
   "id": "5180e09c-d401-41a2-bb68-a04f89bd36d2",
   "metadata": {},
   "source": [
    "The data was collected manually from various sources, including:\n",
    "- SQL related websites\n",
    "- Github repositories\n",
    "- Kaggle datasets\n",
    "\n",
    "And some of them was generated using language models, such as:\n",
    "- ChatGPT\n",
    "- Perplexity\n",
    "- Copilot\n",
    "- Gemini\n",
    "\n",
    "Then, we assemble them all together in a text file called sqli, each query in a single line"
   ]
  },
  {
   "cell_type": "code",
   "execution_count": 6,
   "id": "2cf48562-485a-4784-8414-05849125f677",
   "metadata": {},
   "outputs": [],
   "source": [
    "with open(\"../datasets/clean/sqli.txt\") as source:\n",
    "    sqli = list(source)"
   ]
  },
  {
   "cell_type": "markdown",
   "id": "f66e7cbc-9787-471e-8364-ffde6ad9a728",
   "metadata": {},
   "source": [
    "#### Simple EDA"
   ]
  },
  {
   "cell_type": "code",
   "execution_count": 7,
   "id": "5434b3a4-e649-412b-b937-1a8252a45003",
   "metadata": {},
   "outputs": [
    {
     "name": "stdout",
     "output_type": "stream",
     "text": [
      "['SELECT * FROM Customers;\\n',\n",
      " \"SELECT CustomerName, Email FROM Customers WHERE City = 'Paris';\\n\",\n",
      " 'SELECT ProductID, ProductName, Price FROM Products ORDER BY Price ASC LIMIT '\n",
      " '20;\\n',\n",
      " 'SELECT o.OrderID, c.CustomerName, p.ProductName FROM Orders o JOIN Customers '\n",
      " 'c ON o.CustomerID = c.CustomerID JOIN Products p ON o.ProductID = '\n",
      " 'p.ProductID;\\n',\n",
      " 'SELECT EmployeeID, FirstName, LastName, Department FROM Employees WHERE '\n",
      " \"Department IN ('Engineering', 'IT');\\n\"]\n"
     ]
    }
   ],
   "source": [
    "# preview\n",
    "pprint.pprint(sqli[:5])"
   ]
  },
  {
   "cell_type": "code",
   "execution_count": 9,
   "id": "a6b3b2c3-5b77-43aa-9c12-f36a0e98f9d2",
   "metadata": {},
   "outputs": [
    {
     "name": "stdout",
     "output_type": "stream",
     "text": [
      "number of data samples: 2514 samples\n"
     ]
    }
   ],
   "source": [
    "print(f\"number of data samples: {len(sqli)} samples\")"
   ]
  },
  {
   "cell_type": "code",
   "execution_count": 22,
   "id": "300cde36-0a4a-40e0-bb71-bc3c9dfd1db2",
   "metadata": {},
   "outputs": [],
   "source": [
    "sqli_df = pd.DataFrame(sqli, columns=[\"query\"])\n",
    "\n",
    "def get_query_type(query):\n",
    "    common_types = [\"SELECT\", \"INSERT\", \"DELETE\", \"UPDATE\", \"ALTER\", \"DROP\", \"JOIN\", \"GROUP\"]\n",
    "    types = \"\"\n",
    "    for t in common_types:\n",
    "        if t in query.upper():\n",
    "            types += t + \"_\"\n",
    "    if len(types) > 0:\n",
    "        return types[:-1]\n",
    "    else:\n",
    "        return \"UNKNOWN\"\n",
    "\n",
    "sqli_df[\"type\"] = sqli_df[\"query\"].apply(get_query_type)\n",
    "sqli_df[\"length\"] = sqli_df[\"query\"].apply(len)"
   ]
  },
  {
   "cell_type": "code",
   "execution_count": 56,
   "id": "6b1dc3d7-4047-46e7-bbf8-19f8d8c6c50c",
   "metadata": {},
   "outputs": [
    {
     "data": {
      "image/png": "[encoded data removed]",
      "text/plain": [
       "<Figure size 1000x500 with 2 Axes>"
      ]
     },
     "metadata": {},
     "output_type": "display_data"
    }
   ],
   "source": [
    "sns.set_style(\"whitegrid\")\n",
    "\n",
    "fig, axes = plt.subplots(1, 2, figsize=(10, 5))\n",
    "sns.countplot(data=sqli_df, x=\"type\", hue=\"type\", ax=axes[0], palette=\"dark:green\")\n",
    "sns.histplot(data=sqli_df, x=\"length\", ax=axes[1], kde=True, color=\"orange\")\n",
    "\n",
    "axes[0].tick_params(\"x\", rotation=90, size=1)\n",
    "axes[0].set_title(\"query types counts\")\n",
    "axes[1].set_title(\"query length distribution\")\n",
    "\n",
    "plt.tight_layout()\n",
    "plt.show()"
   ]
  },
  {
   "cell_type": "markdown",
   "id": "341c0e14-59a5-4c17-9f01-09818fdf7e8d",
   "metadata": {},
   "source": [
    "### 2. Cleaning"
   ]
  },
  {
   "cell_type": "markdown",
   "id": "fadf7ee2-9cdb-481f-abd4-3853d19abb82",
   "metadata": {},
   "source": [
    "- Replace some usefull patterns with placeholders, so that same patterns will be encioded with same id later on"
   ]
  },
  {
   "cell_type": "code",
   "execution_count": 57,
   "id": "d32dd7d2-e1f3-41ef-b817-618131260186",
   "metadata": {},
   "outputs": [],
   "source": [
    "def pre_process(text):\n",
    "    \n",
    "    text = text.replace(\"\\n\", \"\")\n",
    "    text = text.lower()\n",
    "    text = text.strip()\n",
    "    # text = text.replace(\" \", \"\")\n",
    "    \n",
    "    text = re.sub(r'\\s{2,}', ' ', text)\n",
    "    text = re.sub(r'[a-zA-Z0-9._%+-]+@[a-zA-Z0-9.-]+\\.[a-zA-Z]{2,}', '<EMAIL>', text)\n",
    "    text = re.sub(r'\\b\\w+(?:\\.\\w+)+\\b', '<SUB>', text)\n",
    "    text = re.sub(r'(\\d+:)+\\d+', '<TIME>', text)\n",
    "    text = re.sub(r'\\d{4}-\\d{2}-\\d{2}', '<DATE>', text)\n",
    "    text = re.sub(r'\\b(\\w+)(?:,\\1)+\\b', '<SERIES>', text)\n",
    "    text = re.sub(r'\\b\\d+(?:,\\d+)+\\b', '<SERIES>', text)\n",
    "    text = re.sub(r'\\bchar\\(\\d+(?:\\+\\d+)*\\)', '<SERIES>', text)\n",
    "    text = re.sub(r'<SERIES>(?:\\+<SERIES>)+', '<SERIES>', text)\n",
    "    text = re.sub(r'\\b\\d+(?:\\.\\d+)?\\b', '<NUMBER>', text)\n",
    "    text = re.sub(r'(.)\\1{2,}', '<REPETITIVE>', text)\n",
    "    text = re.sub(r'(?<=[@$%^!~/[\\]\\\\` ])(?!a)\\w(?=[@$%^!~/[\\]\\\\` ])', '<SINGLE>', text)\n",
    "    \n",
    "    special_characters = r'[@$%^!~/[\\]\\-\\`]'\n",
    "    text = re.sub(rf'{special_characters}{{2,}}', '<REGEX>', text)\n",
    "    text = re.sub(special_characters, '<SPECIAL>', text)\n",
    "\n",
    "    text = text.replace(\",\", \"\")\n",
    "\n",
    "    return text"
   ]
  },
  {
   "cell_type": "code",
   "execution_count": 58,
   "id": "a8b81807-08c0-41ba-9723-dba050e9b029",
   "metadata": {},
   "outputs": [],
   "source": [
    "# apply the function\n",
    "sqli = list(map(pre_process, sqli))"
   ]
  },
  {
   "cell_type": "markdown",
   "id": "78000330-6f0a-4a1d-b469-c5eb189cef72",
   "metadata": {},
   "source": [
    "- Shuffle the dataset"
   ]
  },
  {
   "cell_type": "code",
   "execution_count": 60,
   "id": "7bfdfc51-01f7-432c-b812-ca9853bc6592",
   "metadata": {},
   "outputs": [
    {
     "name": "stdout",
     "output_type": "stream",
     "text": [
      "[\"' and exists(select * from users where username='admin') <REGEX>\",\n",
      " 'select * from products where price between <NUMBER> and <NUMBER>;',\n",
      " 'select * from orders where customer_id = (select id from customers where '\n",
      " \"name = 'jane doe') and order_date >= '<DATE>';\",\n",
      " \"<NUMBER> and substring(<REGEX>version<NUMBER>instr(<REGEX>version' \"\n",
      " \"'))='<SUB><SPECIAL>log'<REGEX>\",\n",
      " 'grant select insert update on suppliers to user4;']\n"
     ]
    }
   ],
   "source": [
    "random.seed(123)\n",
    "random.shuffle(sqli)\n",
    "\n",
    "pprint.pprint(sqli[:5])"
   ]
  },
  {
   "cell_type": "markdown",
   "id": "74ad3035-3f74-4c1e-9654-8aeb64c5501e",
   "metadata": {},
   "source": [
    "### 3. Tokenization"
   ]
  },
  {
   "cell_type": "markdown",
   "id": "41f358f8-5dd7-47fc-bdbd-58b99456abea",
   "metadata": {},
   "source": [
    "Instantiate the tokenizer. We will use **GPT2** Pre-trained tokenizer because it has many features that are usefull for our task. such as:\n",
    "- Utilizes **byte-level BPE** for tokenization, which allows it to handle a wide range of characters and languages.\n",
    "- Automatically manages special tokens required by GPT-2 models, such as beginning-of-sequence (**BOS**), end-of-sequence (**EOS**), and unknown (**UNK**) tokens.\n",
    "- Treats spaces as part of tokens, affecting how words are encoded based on their position in a sentence\n",
    "- Can be initialized with custom vocabulary and merges files, making it adaptable for different datasets."
   ]
  },
  {
   "cell_type": "code",
   "execution_count": 61,
   "id": "c97cbba1-e65a-4da9-82c7-d72f5b3702b9",
   "metadata": {},
   "outputs": [
    {
     "name": "stderr",
     "output_type": "stream",
     "text": [
      "C:\\Users\\DELL\\AppData\\Local\\Programs\\Python\\Python312\\Lib\\site-packages\\transformers\\tokenization_utils_base.py:1601: FutureWarning: `clean_up_tokenization_spaces` was not set. It will be set to `True` by default. This behavior will be depracted in transformers v4.45, and will be then set to `False` by default. For more details check this issue: https://github.com/huggingface/transformers/issues/31884\n",
      "  warnings.warn(\n"
     ]
    },
    {
     "data": {
      "text/plain": [
       "0"
      ]
     },
     "execution_count": 61,
     "metadata": {},
     "output_type": "execute_result"
    }
   ],
   "source": [
    "vocab_file = \"../utils/tokenier/vocab/vocab.json\"\n",
    "merges_file = \"../utils/tokenier/vocab/merges.txt\"\n",
    "\n",
    "tokenizer = GPT2Tokenizer(vocab_file=vocab_file, \n",
    "                          merges_file=merges_file,\n",
    "                          unk_token=\"<|unk|>\",\n",
    "                          bos_token=\"<|bos|>\",\n",
    "                          eos_token=\"<|eos|>\"\n",
    "                         )\n",
    "\n",
    "placeholders = [\"<EMAIL>\", \"<SUB>\", \"<TIME>\", \"<DATE>\", \"<SERIES>\", \"<NUMBER>\", \"<REPETITIVE>\", \"<SINGLE>\", \"<REGEX>\", \"<SPECIAL>\"]\n",
    "special_tokens_dict = {'additional_special_tokens': placeholders}\n",
    "tokenizer.add_special_tokens(special_tokens_dict)"
   ]
  },
  {
   "cell_type": "code",
   "execution_count": 62,
   "id": "09b6df64-6aa0-4938-bb13-834b9934423c",
   "metadata": {},
   "outputs": [],
   "source": [
    "def encode(data: list[str]) -> list[list[int]]:\n",
    "    sequences = []\n",
    "    for query in data:\n",
    "\n",
    "        query = pre_process(query)\n",
    "        tok = tokenizer.tokenize(query)\n",
    "        tok = list(map(lambda x: x.replace(\"Ġ\", \"\"), tok))\n",
    "        tok = [item for item in tok if item != \"\"]\n",
    "        \n",
    "        for i, t in enumerate(tok):\n",
    "            if bool(re.fullmatch(r'[a-zA-Z]', t)) or bool(re.fullmatch(r'-?\\d+', t)):\n",
    "                tok[i] = \"<oov>\"\n",
    "        \n",
    "        seq = tokenizer.convert_tokens_to_ids(tok)\n",
    "        seq = [item for item in seq if item != None]\n",
    "        sequences.append(seq)\n",
    "    \n",
    "    print(\"Done!\")\n",
    "    return sequences"
   ]
  },
  {
   "cell_type": "code",
   "execution_count": 66,
   "id": "eba7cff7-7b50-4bfe-9a16-eca393ac6842",
   "metadata": {},
   "outputs": [
    {
     "name": "stdout",
     "output_type": "stream",
     "text": [
      "Done!\n"
     ]
    },
    {
     "data": {
      "text/plain": [
       "[[1, 1, 1, 1, 1, 1, 1, 227, 476, 523]]"
      ]
     },
     "execution_count": 66,
     "metadata": {},
     "output_type": "execute_result"
    }
   ],
   "source": [
    "# exmple of usage\n",
    "encode([\"Machine learning can ams make predictions based on data.\"])"
   ]
  },
  {
   "cell_type": "code",
   "execution_count": 67,
   "id": "5935d4f6-32be-4a68-a7c4-276eeccd1ffd",
   "metadata": {},
   "outputs": [
    {
     "name": "stdout",
     "output_type": "stream",
     "text": [
      "Done!\n"
     ]
    }
   ],
   "source": [
    "# apply of our dataset\n",
    "sequences = encode(sqli)"
   ]
  },
  {
   "cell_type": "markdown",
   "id": "8ba19ae4-5e20-4d42-b4a7-d01a354c3456",
   "metadata": {},
   "source": [
    "### 4. Padding"
   ]
  },
  {
   "cell_type": "markdown",
   "id": "5cbaf207-44d1-45b4-9cc3-c97b630e393a",
   "metadata": {},
   "source": [
    "First we need to determine what is the **Max Length** to use for padding (the unified length our dataset will have for each data sample)"
   ]
  },
  {
   "cell_type": "code",
   "execution_count": 78,
   "id": "366cf7fe-7199-4a66-9623-5c6cd9436485",
   "metadata": {},
   "outputs": [
    {
     "data": {
      "image/png": "[encoded data removed]",
      "text/plain": [
       "<Figure size 1000x400 with 1 Axes>"
      ]
     },
     "metadata": {},
     "output_type": "display_data"
    },
    {
     "name": "stdout",
     "output_type": "stream",
     "text": [
      "minimun length: 0\n",
      "maximum length: 76\n",
      "96th percentile: 42.0\n",
      "above 96th percentile: 96 / 2514\n",
      "below 96th percentile: 2410 / 2514\n",
      "example of sequence with length 42: \n",
      "[[20397  8291 19093  3805 25625  5953 20059 25320 11334 22271   259  2545\n",
      "   1988 15284 25082 17511  2548 10263 19197 25770 26230 21366 17367 11146\n",
      "  28664  4333 26370  4261 16304  9483 12253 12807 23549  8520  6894 13416\n",
      "  16635 18118   522 27083 28756 21988]]\n"
     ]
    }
   ],
   "source": [
    "lengths = np.array([len(item) for item in sequences])\n",
    "percentile_indice = 96\n",
    "percentile = np.quantile(a=lengths, q=percentile_indice/100)         # the length we used\n",
    "\n",
    "\n",
    "sns.set_style(\"whitegrid\")\n",
    "fig, ax = plt.subplots(figsize=(10, 4))\n",
    "ax.hist(lengths, bins=50, color=\"lightblue\", label=\"lengths distribution over sequences\")\n",
    "ax.axvline(x=percentile, linestyle=\"--\", color=\"red\", label=f\"{percentile_indice}th percentile ({percentile})\")\n",
    "ax.set_xticks(np.arange(0, 75, 10))\n",
    "ax.legend()\n",
    "plt.show()\n",
    "\n",
    "print(f\"minimun length: {np.min(lengths)}\")\n",
    "print(f\"maximum length: {np.max(lengths)}\")\n",
    "print(f\"{percentile_indice}th percentile: {percentile}\")\n",
    "print(f\"above {percentile_indice}th percentile: {sum(lengths>percentile)} / {len(lengths)}\")\n",
    "print(f\"below {percentile_indice}th percentile: {sum(lengths<percentile)} / {len(lengths)}\")\n",
    "\n",
    "random_text = \"\"\n",
    "while len(random_text) < percentile:\n",
    "    random_text += lorem.sentence() + \" \"\n",
    "print(f\"example of sequence with length {int(percentile)}: \\n{np.random.randint(0, 30000, (1, int(percentile)))}\")"
   ]
  },
  {
   "cell_type": "markdown",
   "id": "e99874d8-5c7a-40c7-82bb-6b62364c74ec",
   "metadata": {},
   "source": [
    "So we choosed the **96th** percentile as the unified length."
   ]
  },
  {
   "cell_type": "code",
   "execution_count": 80,
   "id": "21e0d03a-bac5-48e8-8056-0eb95a7543c2",
   "metadata": {},
   "outputs": [],
   "source": [
    "max_length = int(percentile)"
   ]
  },
  {
   "cell_type": "markdown",
   "id": "57151a0f-7758-4a40-8f9f-d09707179b58",
   "metadata": {},
   "source": [
    "Now we can apply the padding for the entier dataset (it can take some minutes to be executed...)"
   ]
  },
  {
   "cell_type": "code",
   "execution_count": 82,
   "id": "36b2faa8-8902-4fae-85e7-ffc4df77da30",
   "metadata": {},
   "outputs": [],
   "source": [
    "from tensorflow.keras.preprocessing.sequence import pad_sequences\n",
    "sequences = pad_sequences(sequences=sequences, \n",
    "                          maxlen=max_length, \n",
    "                          padding=\"post\", \n",
    "                          truncating=\"post\")"
   ]
  },
  {
   "cell_type": "code",
   "execution_count": 83,
   "id": "7a77a5a1-134c-4f35-80a0-fdca871a28e5",
   "metadata": {},
   "outputs": [
    {
     "data": {
      "text/plain": [
       "(2514, 42)"
      ]
     },
     "execution_count": 83,
     "metadata": {},
     "output_type": "execute_result"
    }
   ],
   "source": [
    "sequences = np.array(sequences)\n",
    "sequences.shape"
   ]
  },
  {
   "cell_type": "markdown",
   "id": "f5699c75-2c37-4c33-aea6-546abb5ec531",
   "metadata": {},
   "source": [
    "### 5. Saving Results"
   ]
  },
  {
   "cell_type": "markdown",
   "id": "d366537c-a833-4f3f-a66f-50e240d2593f",
   "metadata": {},
   "source": [
    "Our dataset is now ready for modeling ..."
   ]
  },
  {
   "cell_type": "code",
   "execution_count": 31,
   "id": "14f5b4e6-7fc4-4ded-9685-27dfbefbf71a",
   "metadata": {},
   "outputs": [],
   "source": [
    "data_path = \"../datasets/clean/data-numpy.npy\"\n",
    "np.save(data_path, sequences)"
   ]
  },
  {
   "cell_type": "code",
   "execution_count": null,
   "id": "9455177e-fcd8-4eac-91de-cb2f6aaca9e1",
   "metadata": {},
   "outputs": [],
   "source": []
  }
 ],
 "metadata": {
  "kernelspec": {
   "display_name": "Python 3 (ipykernel)",
   "language": "python",
   "name": "python3"
  },
  "language_info": {
   "codemirror_mode": {
    "name": "ipython",
    "version": 3
   },
   "file_extension": ".py",
   "mimetype": "text/x-python",
   "name": "python",
   "nbconvert_exporter": "python",
   "pygments_lexer": "ipython3",
   "version": "3.12.4"
  }
 },
 "nbformat": 4,
 "nbformat_minor": 5
}
