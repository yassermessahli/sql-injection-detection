{
 "cells": [
  {
   "cell_type": "code",
   "execution_count": 2,
   "id": "0d47a639-5fb0-46c8-a8b5-d7f11811027a",
   "metadata": {},
   "outputs": [],
   "source": [
    "import pandas as pd\n",
    "import numpy as np\n",
    "import seaborn as sns\n",
    "import matplotlib.pyplot as plt\n",
    "\n",
    "import pprint\n",
    "import lorem\n",
    "import random\n",
    "import re\n",
    "import os\n",
    "import json\n",
    "\n",
    "from transformers import BertTokenizer, GPT2Tokenizer"
   ]
  },
  {
   "cell_type": "markdown",
   "id": "4b349118-0c5e-4c33-a211-8ad568451d81",
   "metadata": {},
   "source": [
    "### Setup Words Vocabulary"
   ]
  },
  {
   "cell_type": "code",
   "execution_count": 3,
   "id": "336d4607-ba6c-4964-af02-3d2bd6fac810",
   "metadata": {},
   "outputs": [
    {
     "name": "stdout",
     "output_type": "stream",
     "text": [
      "gpt2 vocabulary downloaded to path: ../datasets/clean/gpt2vocab\n"
     ]
    }
   ],
   "source": [
    "def download_vocab(name=\"gpt2\", path=\"./\"):\n",
    "    tok = GPT2Tokenizer.from_pretrained(name)\n",
    "    tok.save_pretrained(path)\n",
    "    \n",
    "    os.remove(os.path.join(path, \"tokenizer_config.json\"))\n",
    "    os.remove(os.path.join(path, \"special_tokens_map.json\"))\n",
    "    print(f\"{name} vocabulary downloaded to path: {path}\")\n",
    "\n",
    "\n",
    "path = \"../datasets/clean/gpt2vocab\"\n",
    "download_vocab(path=path)"
   ]
  },
  {
   "cell_type": "markdown",
   "id": "2c012c8f-be4f-49c2-8939-c3d3fb7e0a34",
   "metadata": {},
   "source": [
    "**Some changes should be done manualy from text editor...**"
   ]
  },
  {
   "cell_type": "code",
   "execution_count": 5,
   "id": "d417e7c7-ca31-4608-a881-ea332bd2bc10",
   "metadata": {},
   "outputs": [
    {
     "name": "stdout",
     "output_type": "stream",
     "text": [
      "Regex to remove:\n",
      "{'^(.)\\\\1{2,}$': 'm', '-?\\\\d+': 's', '\\\\\\\\u[0-9a-fA-F]{4}': 's', '([@$,%^!&*)(._+\\\\-=\\\\[\\\\]}{;\":\\\\\\\\|,.<>?/~`]{2,})': 'm'}\n",
      "====================================================================================================\n",
      "initial vocab length: 40944\n",
      "====================================================================================================\n",
      "to delete:\n",
      "['!!!', '!!!!', '!!!!!', '!!!!!!!!', '\"\"\"', '###', '####', '########', '################', '################################', '$$$$', '%%%%', \"''''\", ')))', '))))', '***', '****', '*****', '********', '************', '****************', '********************************', '+++', '++++', '++++++++', '++++++++++++++++', ',,,,', ',,,,,,,,', '---', '----', '-----', '------', '-------', '--------', '---------', '----------', '-----------', '------------', '-------------', '--------------', '---------------', '----------------', '--------------------', '------------------------', '--------------------------------', '------------------------------------------------', '--------------------------------------------------------', '----------------------------------------------------------------', '...', '....', '.....', '......', '.......', '........', '.........', '.............', '................', '..................', '........................', '................................', '................................................................', '///', '////', '////////', '////////////////', '////////////////////////////////', '000', '0000', '00000', '000000', '0000000', '00000000', '0000000000000000', '111', '1111', '222', '333', '3333', '444', '555', '666', '6666', '66666666', '777', '888', '999', '9999', '::::', '::::::::', ';;;;', ';;;;;;;;', ';;;;;;;;;;;;', '===', '====', '======', '========', '============', '================', '================================', '================================================================', '>>>', '>>>>', '>>>>>>>>', '???', '????', '?????', '????????', '@@@@', '@@@@@@@@', 'AAA', 'AAAA', 'AAAAAAAA', 'CCC', 'EEE', 'EEEE', 'FFFF', 'GGGG', 'GGGGGGGG', 'HHHH', 'III', 'OOOO', 'OOOOOOOO', 'XXX', 'XXXX', '\\\\\\\\\\\\\\\\', '\\\\\\\\\\\\\\\\\\\\\\\\\\\\\\\\', '\\\\\\\\\\\\\\\\\\\\\\\\\\\\\\\\\\\\\\\\\\\\\\\\\\\\\\\\\\\\\\\\', '^^^^', '___', '____', '_____', '______', '_______', '________', '________________', '________________________', '________________________________', '________________________________________________________________', '````', 'aaa', 'aaaa', 'eeee', 'fff', 'ffff', 'hhh', 'hhhh', 'iii', 'mmm', 'mmmm', 'ooo', 'oooo', 'oooooooo', 'oooooooooooooooo', 'www', 'xxx', 'xxxx', 'xxxxxxxx', '||||', '}}}', '~~~~', '~~~~~~~~', '~~~~~~~~~~~~~~~~', '#####', '..........', '..............', '=====', '=================', '=================================', '=================================================================', 'KKK', '0', '00', '000', '0000', '00000', '000000', '0000000', '00000000', '0000000000000000', '00007', '0001', '0002', '001', '0010', '002', '00200000', '003', '004', '005', '006', '007', '008', '009', '01', '010', '0100', '011', '012', '013', '014', '015', '016', '017', '018', '019', '02', '020', '0200', '021', '022', '023', '024', '025', '026', '027', '028', '029', '03', '030', '031', '032', '033', '034', '035', '036', '04', '040', '041', '043', '044', '045', '046', '047', '048', '05', '050', '052', '055', '057', '059', '06', '060', '07', '070', '075', '08', '080', '083', '088', '089', '09', '090', '1', '10', '100', '1000', '10000', '1001', '1007', '101', '1016', '102', '1024', '1027', '103', '104', '105', '106', '107', '108', '1080', '109', '11', '110', '1100', '111', '1111', '112', '113', '114', '115', '116', '117', '118', '119', '12', '120', '1200', '121', '122', '123', '124', '125', '126', '127', '128', '129', '13', '130', '131', '132', '133', '134', '135', '136', '137', '138', '139', '14', '140', '141', '142', '143', '144', '145', '146', '147', '148', '149', '15', '150', '1500', '151', '152', '153', '154', '155', '156', '157', '158', '159', '16', '160', '1600', '161', '162', '163', '164', '165', '166', '167', '168', '169', '17', '170', '171', '172', '173', '174', '175', '176', '177', '178', '179', '18', '180', '1800', '181', '182', '183', '184', '185', '186', '187', '188', '189', '19', '190', '1900', '191', '192', '1920', '193', '194', '1945', '195', '1950', '1959', '196', '1960', '1963', '1964', '1965', '1966', '1967', '1968', '1969', '197', '1970', '1971', '1972', '1973', '1974', '1975', '1976', '1977', '1978', '1979', '198', '1980', '1981', '1982', '1983', '1984', '1985', '1986', '1987', '1988', '1989', '199', '1990', '1991', '1992', '1993', '1994', '1995', '1996', '1997', '1998', '1999', '2', '20', '200', '2000', '200000', '2001', '2002', '2003', '2004', '2005', '2006', '2007', '2008', '2009', '201', '2010', '2011', '2012', '2013', '2014', '2015', '2016', '2017', '2018', '2019', '202', '2020', '203', '204', '20439', '205', '206', '207', '208', '209', '21', '210', '211', '212', '213', '214', '215', '216', '217', '218', '219', '22', '220', '2200', '221', '222', '223', '224', '225', '226', '227', '228', '229', '23', '230', '231', '232', '233', '234', '235', '236', '237', '238', '239', '24', '240', '241', '242', '243', '244', '245', '246', '247', '248', '249', '25', '250', '2500', '251', '252', '253', '254', '255', '256', '257', '258', '259', '26', '260', '261', '262', '263', '264', '265', '266', '267', '268', '269', '27', '270', '271', '272', '273', '274', '275', '276', '277', '278', '279', '28', '280', '281', '282', '283', '284', '285', '286', '287', '288', '289', '29', '290', '291', '292', '293', '294', '295', '296', '297', '298', '299', '3', '30', '300', '3000', '301', '302', '303', '304', '305', '306', '307', '308', '309', '31', '310', '311', '312', '313', '314', '315', '316', '317', '318', '319', '32', '320', '321', '322', '323', '324', '325', '326', '327', '328', '329', '33', '330', '331', '332', '333', '3333', '334', '335', '336', '337', '338', '339', '34', '340', '341', '342', '343', '344', '345', '346', '347', '348', '349', '35', '350', '351', '352', '353', '354', '355', '356', '357', '358', '359', '36', '360', '361', '362', '363', '364', '365', '366', '367', '368', '369', '37', '370', '371', '372', '373', '374', '375', '376', '377', '378', '379', '38', '380', '381', '382', '383', '384', '385', '386', '387', '388', '389', '39', '390', '391', '392', '393', '394', '395', '396', '397', '398', '399', '4', '40', '400', '4000', '401', '402', '403', '404', '405', '406', '407', '408', '409', '41', '410', '411', '412', '413', '414', '415', '416', '417', '418', '419', '42', '420', '421', '422', '423', '424', '425', '426', '427', '428', '429', '43', '430', '431', '432', '433', '434', '435', '436', '437', '438', '439', '44', '440', '441', '442', '443', '444', '445', '446', '447', '448', '449', '45', '450', '451', '452', '453', '454', '455', '456', '457', '458', '459', '46', '460', '461', '462', '463', '464', '465', '466', '467', '468', '469', '47', '470', '471', '472', '473', '474', '475', '476', '477', '478', '479', '48', '480', '481', '482', '483', '484', '485', '486', '487', '488', '489', '49', '490', '491', '492', '493', '494', '495', '496', '497', '498', '499', '5', '50', '500', '5000', '501', '502', '503', '504', '505', '506', '507', '508', '509', '51', '510', '511', '512', '513', '514', '515', '516', '517', '518', '519', '52', '520', '522', '523', '524', '525', '526', '528', '529', '53', '530', '533', '535', '536', '537', '538', '54', '540', '544', '545', '546', '548', '549', '55', '550', '551', '552', '553', '554', '555', '556', '557', '558', '559', '56', '560', '561', '562', '563', '565', '568', '57', '570', '571', '572', '573', '574', '575', '576', '577', '578', '579', '58', '580', '581', '582', '583', '584', '585', '586', '587', '588', '589', '59', '590', '591', '592', '593', '594', '595', '596', '597', '598', '599', '6', '60', '600', '6000', '601', '602', '603', '604', '605', '606', '607', '608', '609', '61', '610', '612', '613', '614', '615', '616', '617', '618', '62', '620', '623', '625', '626', '627', '628', '629', '63', '630', '635', '64', '640', '641', '642', '643', '644', '645', '646', '647', '648', '649', '65', '650', '651', '652', '653', '654', '655', '656', '657', '658', '659', '66', '660', '661', '662', '663', '665', '666', '6666', '66666666', '667', '668', '669', '67', '670', '671', '672', '673', '674', '675', '676', '677', '678', '679', '68', '680', '681', '682', '683', '684', '685', '686', '687', '688', '689', '69', '690', '691', '692', '693', '694', '695', '696', '697', '698', '699', '7', '70', '700', '701', '702', '703', '704', '705', '706', '707', '70710', '708', '709', '71', '710', '712', '713', '714', '718', '72', '720', '725', '727', '728', '729', '73', '730', '733', '736', '74', '740', '745', '747', '748', '75', '750', '751', '752', '753', '754', '755', '756', '757', '758', '759', '76', '760', '7601', '762', '763', '765', '76561', '767', '768', '77', '770', '771', '772', '773', '774', '775', '776', '777', '778', '779', '78', '780', '781', '782', '783', '784', '785', '786', '787', '789', '79', '790', '792', '793', '794', '795', '796', '797', '798', '799', '8', '80', '800', '8000', '801', '802', '803', '804', '805', '806', '807', '808', '809', '81', '810', '815', '82', '820', '825', '83', '830', '833', '84', '840', '85', '850', '855', '86', '860', '864', '866', '87', '870', '875', '877', '88', '880', '882', '883', '884', '885', '886', '887', '888', '889', '89', '893', '896', '899', '9', '90', '900', '901', '905', '909', '91', '910', '911', '915', '916', '92', '920', '925', '93', '930', '94', '940', '949', '95', '950', '951', '952', '953', '954', '956', '96', '960', '968', '969', '97', '970', '975', '978', '98', '980', '985', '986', '987', '989', '99', '990', '992', '993', '994', '995', '996', '997', '998', '999', '9999', '0004', '1050', '1070', '1280', '1300', '1400', '1440', '1700', '1830', '1840', '1850', '1860', '1861', '1862', '1863', '1865', '1870', '1880', '1886', '1888', '1889', '1890', '1893', '1895', '1896', '1897', '1898', '1899', '1901', '1902', '1903', '1904', '1905', '1906', '1907', '1908', '1909', '1910', '1911', '1912', '1913', '1914', '1915', '1916', '1917', '1918', '1919', '1921', '1922', '1923', '1924', '1925', '1926', '1927', '1928', '1929', '1930', '1931', '1932', '1933', '1934', '1935', '1936', '1937', '1938', '1939', '1940', '1941', '1942', '1943', '1944', '1946', '1947', '1948', '1949', '1951', '1952', '1953', '1954', '1955', '1956', '1957', '1958', '1961', '1962', '2021', '2022', '2024', '2025', '2030', '2048', '2050', '2100', '2400', '2600', '4090', '4096', '7000', '737', '9000', '!!', '!!!', '!!!!', '!!!!!', '!!!!!!!!', '!!\"', '!\"', '!\",', '!\".', '!)', '!),', '!).', '!,', '!--', '!.', '!/', '!:', '!?', '!?\"', '!]', '\"!', '\"\"', '\"\"\"', '\"(', '\")', '\"))', '\"),', '\").', '\");', '\",', '\",\"', '\"-', '\".', '\"...', '\".[', '\"/>', '\":', '\":\"', '\":\"\",\"', '\":\"\"},{\"', '\":\"/', '\":-', '\":[', '\":[\"', '\":[{\"', '\":{\"', '\";', '\">', '\"><', '\"></', '\"?', '\"[', '\"]', '\"],', '\"],\"', '\"]=>', '\"}', '\"},', '\"},\"', '\"},{\"', '\"}],\"', '$$', '$$$$', '$,', '$.', '${', '%\"', '%%', '%%%%', '%)', '%),', '%).', '%);', '%,', '%-', '%.', '%:', '%;', '%]', '&&', '(\"', '($', '(&', '((', '()', '())', '());', '(),', '().', '():', '();', '(){', '(*', '(-', '([', '(\\\\', '(_', '({', ')!', ')\"', ')\",', ')(', '))', ')))', '))))', ')),', ')).', '));', ')*', ')+', '),', '),\"', ')-', ')--', ').', ').\"', ')...', ').[', ')/', '):', ');', ')</', ')=', ')=(', ')?', ')[', ')\\\\', ')]', ')].', '){', ')|', ')}', '*)', '**', '***', '****', '*****', '********', '************', '****************', '********************************', '*,', '*.', '*/', '*/(', '*:', '*=-', '+(', '+)', '++', '++)', '+++', '++++', '++++++++', '++++++++++++++++', '++;', '+,', '+.', '+=', ',\"', ',)', ',,', ',,,,', ',,,,,,,,', ',-', ',.', ',...', ',[', '-\"', '-$', '-(', '-)', '-+', '-+-+', '-+-+-+-+', '-,', '--', '--+', '---', '----', '-----', '------', '-------', '--------', '---------', '----------', '-----------', '------------', '-------------', '--------------', '---------------', '----------------', '--------------------', '------------------------', '--------------------------------', '------------------------------------------------', '--------------------------------------------------------', '----------------------------------------------------------------', '-->', '-.', '->', '-[', '-|', '.\"', '.\"\"', '.\")', '.\",', '.\",\"', '.\"[', '.$', '.(', '.)', '.),', '.).', '.):', '.*', '.,', '.,\"', '.-', '.--', '..', '...', '...\"', '...)', '....', '.....', '......', '.......', '........', '.........', '.............', '................', '..................', '........................', '................................', '................................................................', '...?', '...]', '../', './', '.:', '.;', '.<', '.</', '.>>', '.?', '.[', '.]', '._', '.}', '/\"', '/$', '/(', '/)', '/*', '/**', '/+', '/,', '/-', '/.', '//', '///', '////', '////////', '////////////////', '////////////////////////////////', '/>', '/?', '/_', ':\"', ':(', ':,', ':-', ':/', '://', '::', '::::', '::::::::', ':[', ':\\\\', ':]', ':{', ';\"', ';;', ';;;;', ';;;;;;;;', ';;;;;;;;;;;;', ';}', '</', '<<', '<?', '=\"', '=\"\"', '=\"/', '=$', '=(', '=-', '=-=-', '=-=-=-=-', '=-=-=-=-=-=-=-=-', '=/', '==', '===', '====', '======', '========', '============', '================', '================================', '================================================================', '=>', '=[', '=\\\\\"', '=]', '={', '=~', '=~=~', '>\"', '>(', '>)', '>,', '>.', '>:', '><', '></', '>>', '>>>', '>>>>', '>>>>>>>>', '>>\\\\', '>[', '>]', '?!', '?!\"', '?\"', '?\",', '?\".', '?)', '?),', '?).', '?,', '?:', '??', '???', '????', '?????', '?????-', '?????-?????-', '????????', '?]', '@@', '@@@@', '@@@@@@@@', '[\"', '[/', '[[', '[]', '[_', '\\\\\"', '\\\\\",', '\\\\\":', '\\\\\">', '\\\\)', '\\\\-', '\\\\.', '\\\\/', '\\\\/\\\\/', '\\\\<', '\\\\\\\\', '\\\\\\\\\\\\\\\\', '\\\\\\\\\\\\\\\\\\\\\\\\\\\\\\\\', '\\\\\\\\\\\\\\\\\\\\\\\\\\\\\\\\\\\\\\\\\\\\\\\\\\\\\\\\\\\\\\\\', ']\"', '](', '])', ']),', ']).', ']);', ']+', '],', '],\"', '],[', ']-', '].', '].\"', ']:', '];', ']=', '][', '][/', ']]', ']}', '^^', '^^^^', '^{', '_(', '_-', '_-_', '_.', '_>', '__', '___', '____', '_____', '______', '_______', '________', '________________', '________________________', '________________________________', '________________________________________________________________', '_{', '`,', '`.', '``', '````', '{\"', '{\\\\', '{{', '||', '||||', '}\"', '})', '});', '},', '},\"', '},{\"', '}.', '}:', '};', '}\\\\', '}{', '}}', '}}}', '~~', '~~~~', '~~~~~~~~', '~~~~~~~~~~~~~~~~', '!=', '\"$', '\"$:/', '\"%', '\"+', '\"/', '\"<', '\"@', '\"\\\\', '\"_', '\"{', '$(', '$\\\\', '$_', '(!', '($)', '(%', '(%)', '(+', '(.', '(/', '(<', '(=', '(>', '(?,', '(@', '(~', '+---', '+/-', '-=', '..........', '..............', '//[', ':)', ':-)', ':=', ';)', '<!--', '<+', '<-', '<=', '<@', '<[', '=====', '=================', '=================================', '=================================================================', '>=', '[&', '[(', '[*', '[*]', '[+', '[+]', '[-', '[...]', '[];', '[|', '\\\\(', '\\\\(\\\\', '``(', '{*', '{:', '{}', '|--', '~/'] \n",
      "\n",
      "====================================================================================================\n",
      "final vocab length: 39305\n",
      "====================================================================================================\n",
      "done!\n"
     ]
    }
   ],
   "source": [
    "import  re\n",
    "import os\n",
    "import json\n",
    "\n",
    "src_path = \"../datasets/clean/gpt2vocab/vocab.json\"\n",
    "regex = {\n",
    "    r'^(.)\\1{2,}$': \"m\",        # match repetitive letters (3 or more)\n",
    "    r'-?\\d+': \"s\",              # search integers\n",
    "    r'\\\\u[0-9a-fA-F]{4}': \"s\",   # search unicode caracters\n",
    "    r'([@$,%^!&*)(._+\\-=\\[\\]}{;\":\\\\|,.<>?/~`]{2,})': \"m\", # random special caracters\n",
    "}\n",
    "\n",
    "print(\"Regex to remove:\")\n",
    "print(regex)\n",
    "print(\"=\"*100)\n",
    "\n",
    "with open(src_path, \"r\", encoding=\"utf-8\") as f:\n",
    "    vocab = json.load(f)\n",
    "    print(f\"initial vocab length: {len(vocab)}\")\n",
    "    print(\"=\"*100)\n",
    "    to_delete = []\n",
    "    print(\"to delete:\")\n",
    "    for r, t in regex.items():\n",
    "        if t == \"m\":\n",
    "            for word, id in vocab.items():\n",
    "                if bool(re.fullmatch(r, word)):\n",
    "                    # delete word from vocab\n",
    "                    to_delete.append(word)\n",
    "        else:\n",
    "            for word, id in vocab.items():\n",
    "                if bool(re.match(r, word)):\n",
    "                    # delete word from vocab\n",
    "                    to_delete.append(word)\n",
    "        \n",
    "    print(to_delete, \"\\n\")\n",
    "    for word in set(to_delete):\n",
    "        del vocab[word]\n",
    "        \n",
    "    print(\"=\"*100) \n",
    "    print(f\"final vocab length: {len(vocab)}\")\n",
    "    print(\"=\"*100)\n",
    "\n",
    "dest_path = \"../utils/tokenier/vocab/vocab.json\"\n",
    "with open(dest_path, \"w\") as f:\n",
    "    json.dump(vocab, f, indent=4)\n",
    "    \n",
    "print(\"done!\")"
   ]
  },
  {
   "cell_type": "markdown",
   "id": "06800b70-930a-4d34-8526-b29dfd7dfba2",
   "metadata": {},
   "source": [
    "**NOTE:** the following two cells should be run one single time"
   ]
  },
  {
   "cell_type": "code",
   "execution_count": 7,
   "id": "3bd54ed4-ae3e-48ca-a695-b5acefe1448c",
   "metadata": {},
   "outputs": [
    {
     "name": "stdout",
     "output_type": "stream",
     "text": [
      "initial length: 39305\n",
      "new length: 30675\n"
     ]
    }
   ],
   "source": [
    "with open(dest_path, \"r\") as f:\n",
    "    print(f\"initial length: {len(vocab)}\")\n",
    "    vocab = json.load(f)\n",
    "    lower_vocab = {key.lower(): value for key, value in vocab.items()}\n",
    "    new_vocab = {key: idx+1 for idx, key in enumerate(lower_vocab)}\n",
    "    print(f\"new length: {len(lower_vocab)}\")\n",
    "\n",
    "with open(dest_path, \"w\") as f:\n",
    "    json.dump(new_vocab, f, indent=4)"
   ]
  },
  {
   "cell_type": "code",
   "execution_count": 8,
   "id": "82f2de6e-3cc2-4058-877c-6f8015091f9e",
   "metadata": {},
   "outputs": [
    {
     "name": "stdout",
     "output_type": "stream",
     "text": [
      "Initial vocab length: 30675\n",
      "done!\n",
      "New vocab length: 30990\n"
     ]
    }
   ],
   "source": [
    "keywords_file_path = \"../datasets/clean/keywords.txt\"\n",
    "vocab_file_path = \"../utils/tokenier/vocab/vocab.json\"\n",
    "\n",
    "with open(keywords_file_path, \"r\") as keywords_file, open(vocab_file_path, \"r\") as vocab_file:\n",
    "    vocab = json.load(vocab_file)\n",
    "    print(f\"Initial vocab length: {len(vocab)}\")\n",
    "    for kw in keywords_file:\n",
    "        for w in kw.lower().replace(\"\\n\", \"\").split(\" \"):\n",
    "            if w not in vocab:\n",
    "                vocab[w] = len(vocab) + 1\n",
    "\n",
    "\n",
    "placeholders = [\"<EMAIL>\", \"<SUB>\", \"<TIME>\", \"<DATE>\", \"<SERIES>\", \"<NUMBER>\", \"<REPETITIVE>\", \"<SINGLE>\", \"<REGEX>\", \"<SPECIAL>\"]\n",
    "for p in placeholders:\n",
    "    vocab[p] = len(vocab) + 1\n",
    "\n",
    "\n",
    "\n",
    "with open(vocab_file_path, \"w\") as f:\n",
    "    json.dump(vocab, f, indent=4)\n",
    "    \n",
    "print(\"done!\")\n",
    "print(f\"New vocab length: {len(vocab)}\")"
   ]
  },
  {
   "cell_type": "markdown",
   "id": "ee6c7b64-edd9-457e-8290-1a5aab131ecd",
   "metadata": {},
   "source": [
    "#### save the tokenizer into a file"
   ]
  },
  {
   "cell_type": "code",
   "execution_count": 9,
   "id": "006a56fc-4de1-4ca9-815e-84db0a89654a",
   "metadata": {},
   "outputs": [
    {
     "data": {
      "text/plain": [
       "0"
      ]
     },
     "execution_count": 9,
     "metadata": {},
     "output_type": "execute_result"
    }
   ],
   "source": [
    "vocab_file = \"../utils/tokenier/vocab/vocab.json\"\n",
    "merges_file = \"../utils/tokenier/vocab/merges.txt\"\n",
    "tokenizer = GPT2Tokenizer(vocab_file=vocab_file, \n",
    "                          merges_file=merges_file,\n",
    "                          unk_token=\"<|unk|>\",\n",
    "                          bos_token=\"<|bos|>\",\n",
    "                          eos_token=\"<|eos|>\"\n",
    "                         )\n",
    "\n",
    "special_tokens_dict = {'additional_special_tokens': placeholders}\n",
    "tokenizer.add_special_tokens(special_tokens_dict)"
   ]
  },
  {
   "cell_type": "code",
   "execution_count": 10,
   "id": "7576af03-5ddb-411c-b348-ac2b59376ca2",
   "metadata": {},
   "outputs": [
    {
     "data": {
      "text/plain": [
       "('../utils/tokenier/gpt2tokenizer/tokenizer_config.json',\n",
       " '../utils/tokenier/gpt2tokenizer/special_tokens_map.json',\n",
       " '../utils/tokenier/gpt2tokenizer/vocab.json',\n",
       " '../utils/tokenier/gpt2tokenizer/merges.txt',\n",
       " '../utils/tokenier/gpt2tokenizer/added_tokens.json')"
      ]
     },
     "execution_count": 10,
     "metadata": {},
     "output_type": "execute_result"
    }
   ],
   "source": [
    "path = \"../utils/tokenier/gpt2tokenizer/\"\n",
    "tokenizer.save_pretrained(path)"
   ]
  },
  {
   "cell_type": "markdown",
   "id": "80c7ab50-6cc7-4229-9fd5-158d6af5b2ba",
   "metadata": {},
   "source": [
    "#### Get and setup data"
   ]
  },
  {
   "cell_type": "code",
   "execution_count": 11,
   "id": "2cf48562-485a-4784-8414-05849125f677",
   "metadata": {},
   "outputs": [],
   "source": [
    "with open(\"../datasets/clean/sqli.txt\") as source1:\n",
    "    source1 = list(source1)\n",
    "\n",
    "source2 = pd.read_csv(\"../datasets/raw/sql_dataset.csv\", header=None)\n",
    "source2 = list(source2[0])\n",
    "sqli = source1"
   ]
  },
  {
   "cell_type": "code",
   "execution_count": 12,
   "id": "5434b3a4-e649-412b-b937-1a8252a45003",
   "metadata": {},
   "outputs": [
    {
     "data": {
      "text/plain": [
       "['SELECT * FROM Customers;\\n',\n",
       " \"SELECT CustomerName, Email FROM Customers WHERE City = 'Paris';\\n\",\n",
       " 'SELECT ProductID, ProductName, Price FROM Products ORDER BY Price ASC LIMIT 20;\\n',\n",
       " 'SELECT o.OrderID, c.CustomerName, p.ProductName FROM Orders o JOIN Customers c ON o.CustomerID = c.CustomerID JOIN Products p ON o.ProductID = p.ProductID;\\n',\n",
       " \"SELECT EmployeeID, FirstName, LastName, Department FROM Employees WHERE Department IN ('Engineering', 'IT');\\n\"]"
      ]
     },
     "execution_count": 12,
     "metadata": {},
     "output_type": "execute_result"
    }
   ],
   "source": [
    "source1[:5]"
   ]
  },
  {
   "cell_type": "code",
   "execution_count": 13,
   "id": "d32dd7d2-e1f3-41ef-b817-618131260186",
   "metadata": {},
   "outputs": [],
   "source": [
    "def pre_process(text):\n",
    "    \n",
    "    text = text.replace(\"\\n\", \"\")\n",
    "    text = text.lower()\n",
    "    text = text.strip()\n",
    "    # text = text.replace(\" \", \"\")\n",
    "    \n",
    "    text = re.sub(r'\\s{2,}', ' ', text)\n",
    "    text = re.sub(r'[a-zA-Z0-9._%+-]+@[a-zA-Z0-9.-]+\\.[a-zA-Z]{2,}', '<EMAIL>', text)\n",
    "    text = re.sub(r'\\b\\w+(?:\\.\\w+)+\\b', '<SUB>', text)\n",
    "    text = re.sub(r'(\\d+:)+\\d+', '<TIME>', text)\n",
    "    text = re.sub(r'\\d{4}-\\d{2}-\\d{2}', '<DATE>', text)\n",
    "    text = re.sub(r'\\b(\\w+)(?:,\\1)+\\b', '<SERIES>', text)\n",
    "    text = re.sub(r'\\b\\d+(?:,\\d+)+\\b', '<SERIES>', text)\n",
    "    text = re.sub(r'\\bchar\\(\\d+(?:\\+\\d+)*\\)', '<SERIES>', text)\n",
    "    text = re.sub(r'<SERIES>(?:\\+<SERIES>)+', '<SERIES>', text)\n",
    "    text = re.sub(r'\\b\\d+(?:\\.\\d+)?\\b', '<NUMBER>', text)\n",
    "    text = re.sub(r'(.)\\1{2,}', '<REPETITIVE>', text)\n",
    "    text = re.sub(r'(?<=[@$%^!~/[\\]\\\\` ])(?!a)\\w(?=[@$%^!~/[\\]\\\\` ])', '<SINGLE>', text)\n",
    "    \n",
    "    special_characters = r'[@$%^!~/[\\]\\-\\`]'\n",
    "    text = re.sub(rf'{special_characters}{{2,}}', '<REGEX>', text)\n",
    "    text = re.sub(special_characters, '<SPECIAL>', text)\n",
    "\n",
    "    text = text.replace(\",\", \"\")\n",
    "\n",
    "    return text"
   ]
  },
  {
   "cell_type": "code",
   "execution_count": 14,
   "id": "a8b81807-08c0-41ba-9723-dba050e9b029",
   "metadata": {},
   "outputs": [],
   "source": [
    "sqli = list(map(pre_process, sqli))"
   ]
  },
  {
   "cell_type": "code",
   "execution_count": 15,
   "id": "7bfdfc51-01f7-432c-b812-ca9853bc6592",
   "metadata": {},
   "outputs": [],
   "source": [
    "def multi_process(iterable, max_length=None, seed=424):\n",
    "    if max_length:\n",
    "        iterable = [item for item in iterable if len(item) <= max_length]\n",
    "    random.seed(seed)\n",
    "    random.shuffle(iterable)\n",
    "    return iterable"
   ]
  },
  {
   "cell_type": "code",
   "execution_count": 16,
   "id": "09686c73-b3b4-4293-9a33-99ef071a3035",
   "metadata": {},
   "outputs": [],
   "source": [
    "sqli = multi_process(sqli, seed=24)"
   ]
  },
  {
   "cell_type": "code",
   "execution_count": 17,
   "id": "63882192-b976-4246-ab66-8deb9e46ca1c",
   "metadata": {},
   "outputs": [],
   "source": [
    "# path = \"../datasets/clean/final.txt\"\n",
    "# with open(path, 'w') as file:\n",
    "#     for query in sqli:\n",
    "#         file.write(query + '\\n')\n",
    "#     print(\"done!\")"
   ]
  },
  {
   "cell_type": "code",
   "execution_count": 18,
   "id": "e19ba42d-85c7-4543-9038-177f566a5d90",
   "metadata": {},
   "outputs": [
    {
     "name": "stdout",
     "output_type": "stream",
     "text": [
      "[\"update addresses set address = '<NUMBER> elm st' where id = <NUMBER>;\",\n",
      " \"insert into users (name email last_login) values ('hannah' '<EMAIL>' now());\",\n",
      " 'select * from user_orders;',\n",
      " \"select * from employees where department = 'sales' and (hire_date < '<DATE>' \"\n",
      " 'or salary > <NUMBER>);',\n",
      " \"' and (select substring(password<SERIES>) from users where \"\n",
      " \"username='admin')='<SPECIAL>' <REGEX>\"]\n"
     ]
    }
   ],
   "source": [
    "listhead_sqli = sqli[:5]\n",
    "pprint.pprint(listhead_sqli)"
   ]
  },
  {
   "cell_type": "code",
   "execution_count": 21,
   "id": "09b6df64-6aa0-4938-bb13-834b9934423c",
   "metadata": {},
   "outputs": [],
   "source": [
    "def encode(data: list[str]) -> list[list[int]]:\n",
    "    sequences = []\n",
    "    for query in data:\n",
    "\n",
    "        query = pre_process(query)\n",
    "        # print(query)\n",
    "        tok = tokenizer.tokenize(query)\n",
    "        # print(tok)\n",
    "        tok = list(map(lambda x: x.replace(\"Ġ\", \"\"), tok))\n",
    "        tok = [item for item in tok if item != \"\"]\n",
    "        # print(tok)\n",
    "        \n",
    "        for i, t in enumerate(tok):\n",
    "            if bool(re.fullmatch(r'[a-zA-Z]', t)) or bool(re.fullmatch(r'-?\\d+', t)):\n",
    "                tok[i] = \"<oov>\"\n",
    "        # print(tok)\n",
    "        \n",
    "        seq = tokenizer.convert_tokens_to_ids(tok)\n",
    "        seq = [item for item in seq if item != None]\n",
    "        # print(seq)\n",
    "        sequences.append(seq)\n",
    "    \n",
    "    print(\"Done!\")\n",
    "    return sequences"
   ]
  },
  {
   "cell_type": "code",
   "execution_count": 20,
   "id": "eba7cff7-7b50-4bfe-9a16-eca393ac6842",
   "metadata": {},
   "outputs": [
    {
     "name": "stdout",
     "output_type": "stream",
     "text": [
      "select * from table where customer=<NUMBER> or name like '<SPECIAL><REPETITIVE><SPECIAL>'\n",
      "['select', 'Ġ*', 'Ġfrom', 'Ġtable', 'Ġwhere', 'Ġcustomer', '=', '<NUMBER>', 'Ġor', 'Ġname', 'Ġlike', \"Ġ'\", '<SPECIAL>', '<REPETITIVE>', '<SPECIAL>', \"'\"]\n",
      "['select', '*', 'from', 'table', 'where', 'customer', '=', '<NUMBER>', 'or', 'name', 'like', \"'\", '<SPECIAL>', '<REPETITIVE>', '<SPECIAL>', \"'\"]\n",
      "['select', '*', 'from', 'table', 'where', 'customer', '=', '<NUMBER>', 'or', 'name', 'like', \"'\", '<SPECIAL>', '<REPETITIVE>', '<SPECIAL>', \"'\"]\n",
      "[3108, 48, 1427, 3441, 3820, 889, 76, 30986, 2540, 2382, 2117, 15, 30990, 30987, 30990, 15]\n",
      "Done!\n"
     ]
    }
   ],
   "source": [
    "encode([\"SELECT * FROM TABLE where customer=1234 or name like '%fff%'\"])"
   ]
  },
  {
   "cell_type": "code",
   "execution_count": 22,
   "id": "5935d4f6-32be-4a68-a7c4-276eeccd1ffd",
   "metadata": {},
   "outputs": [
    {
     "name": "stdout",
     "output_type": "stream",
     "text": [
      "Done!\n"
     ]
    }
   ],
   "source": [
    "sequences = encode(sqli)"
   ]
  },
  {
   "cell_type": "code",
   "execution_count": 24,
   "id": "366cf7fe-7199-4a66-9623-5c6cd9436485",
   "metadata": {},
   "outputs": [
    {
     "data": {
      "image/png": "[encoded data removed]",
      "text/plain": [
       "<Figure size 1000x400 with 1 Axes>"
      ]
     },
     "metadata": {},
     "output_type": "display_data"
    },
    {
     "name": "stdout",
     "output_type": "stream",
     "text": [
      "minimun length: 2\n",
      "maximum length: 73\n",
      "98th percentile: 25\n",
      "above 98th percentile: 248 / 1892\n",
      "below 98th percentile: 1630 / 1892\n",
      "example of sequence with length 25: \n",
      "[[32685 67426 11296 62083 90748  7890   722 89248 63937 89309 92970 74915\n",
      "  41217 36708 62238 97782 86864 31886 24774 18961 69371 83305 64641 63775\n",
      "  72413]]\n"
     ]
    }
   ],
   "source": [
    "lengths = np.array([len(item) for item in sequences])\n",
    "percentile_indice = 98\n",
    "percentile = 25\n",
    "\n",
    "\n",
    "sns.set_style(\"whitegrid\")\n",
    "fig, ax = plt.subplots(figsize=(10, 4))\n",
    "ax.hist(lengths, bins=50, color=\"lightblue\", label=\"lengths distribution over sequences\")\n",
    "ax.axvline(x=percentile, linestyle=\"--\", color=\"red\", label=f\"{percentile_indice}th percentile ({percentile})\")\n",
    "ax.set_xticks(np.arange(0, 75, 10))\n",
    "ax.legend()\n",
    "plt.show()\n",
    "\n",
    "print(f\"minimun length: {np.min(lengths)}\")\n",
    "print(f\"maximum length: {np.max(lengths)}\")\n",
    "print(f\"{percentile_indice}th percentile: {percentile}\")\n",
    "print(f\"above {percentile_indice}th percentile: {sum(lengths>percentile)} / {len(lengths)}\")\n",
    "print(f\"below {percentile_indice}th percentile: {sum(lengths<percentile)} / {len(lengths)}\")\n",
    "\n",
    "random_text = \"\"\n",
    "while len(random_text) < percentile:\n",
    "    random_text += lorem.sentence() + \" \"\n",
    "print(f\"example of sequence with length {percentile}: \\n{np.random.randint(0, 99999, (1, percentile))}\")"
   ]
  },
  {
   "cell_type": "code",
   "execution_count": 25,
   "id": "21e0d03a-bac5-48e8-8056-0eb95a7543c2",
   "metadata": {},
   "outputs": [],
   "source": [
    "max_length = int(percentile)"
   ]
  },
  {
   "cell_type": "code",
   "execution_count": 26,
   "id": "36b2faa8-8902-4fae-85e7-ffc4df77da30",
   "metadata": {},
   "outputs": [],
   "source": [
    "from tensorflow.keras.preprocessing.sequence import pad_sequences\n",
    "sequences = pad_sequences(sequences=sequences, \n",
    "                          maxlen=max_length, \n",
    "                          padding=\"post\", \n",
    "                          truncating=\"post\")"
   ]
  },
  {
   "cell_type": "code",
   "execution_count": 27,
   "id": "7a77a5a1-134c-4f35-80a0-fdca871a28e5",
   "metadata": {},
   "outputs": [
    {
     "data": {
      "text/plain": [
       "(1892, 25)"
      ]
     },
     "execution_count": 27,
     "metadata": {},
     "output_type": "execute_result"
    }
   ],
   "source": [
    "sequences = np.array(sequences)\n",
    "sequences.shape"
   ]
  },
  {
   "cell_type": "code",
   "execution_count": 28,
   "id": "14f5b4e6-7fc4-4ded-9685-27dfbefbf71a",
   "metadata": {},
   "outputs": [],
   "source": [
    "data_path = \"../datasets/clean/final.npy\"\n",
    "np.save(data_path, sequences)"
   ]
  }
 ],
 "metadata": {
  "kernelspec": {
   "display_name": "Python 3 (ipykernel)",
   "language": "python",
   "name": "python3"
  },
  "language_info": {
   "codemirror_mode": {
    "name": "ipython",
    "version": 3
   },
   "file_extension": ".py",
   "mimetype": "text/x-python",
   "name": "python",
   "nbconvert_exporter": "python",
   "pygments_lexer": "ipython3",
   "version": "3.12.4"
  }
 },
 "nbformat": 4,
 "nbformat_minor": 5
}
