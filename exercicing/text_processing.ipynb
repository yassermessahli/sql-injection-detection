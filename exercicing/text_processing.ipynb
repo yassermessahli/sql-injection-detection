{
 "cells": [
  {
   "cell_type": "markdown",
   "id": "224c8f8b-6c04-483c-af6b-edb371f2613e",
   "metadata": {},
   "source": [
    "# NLP tutorial with tensorflow"
   ]
  },
  {
   "cell_type": "markdown",
   "id": "c81d74bb-d4fb-4bfa-90c5-2311f5d53965",
   "metadata": {},
   "source": [
    "# Tokenisation"
   ]
  },
  {
   "cell_type": "code",
   "execution_count": 2,
   "id": "db3d018a-597e-4dde-b1fb-a7c20b16c365",
   "metadata": {},
   "outputs": [
    {
     "name": "stdout",
     "output_type": "stream",
     "text": [
      "{'love': 1, 'my': 2, 'i': 3, 'dog': 4, 'cat': 5, 'you': 6}\n"
     ]
    }
   ],
   "source": [
    "from tensorflow.keras.preprocessing.text import Tokenizer\n",
    "\n",
    "sentences = [\n",
    "    'i love my dog',\n",
    "    'I, love my cat',\n",
    "    'You love my dog!'\n",
    "]\n",
    "\n",
    "tokenizer = Tokenizer(num_words = 100)\n",
    "tokenizer.fit_on_texts(sentences)\n",
    "word_index = tokenizer.word_index\n",
    "print(word_index)"
   ]
  },
  {
   "cell_type": "markdown",
   "id": "bf40f3f3-9998-4725-b727-eebf67398b54",
   "metadata": {},
   "source": [
    "# Text to sequence & Padding"
   ]
  },
  {
   "cell_type": "code",
   "execution_count": 2,
   "id": "8d1ba78d-284d-42ef-a9c1-0bac4cd2e403",
   "metadata": {},
   "outputs": [
    {
     "name": "stdout",
     "output_type": "stream",
     "text": [
      "\n",
      "Word Index =  {'<OOV>': 1, 'my': 2, 'love': 3, 'dog': 4, 'i': 5, 'you': 6, 'cat': 7, 'do': 8, 'think': 9, 'is': 10, 'amazing': 11}\n",
      "\n",
      "Sequences =  [[5, 3, 2, 4], [5, 3, 2, 7], [6, 3, 2, 4], [8, 6, 9, 2, 4, 10, 11]]\n",
      "\n",
      "Padded Sequences:\n",
      "[[ 0  5  3  2  4]\n",
      " [ 0  5  3  2  7]\n",
      " [ 0  6  3  2  4]\n",
      " [ 9  2  4 10 11]]\n",
      "\n",
      "Test Sequence =  [[5, 1, 3, 2, 4], [2, 4, 1, 2, 1]]\n",
      "\n",
      "Padded Test Sequence: \n",
      "[[0 0 0 0 0 5 1 3 2 4]\n",
      " [0 0 0 0 0 2 4 1 2 1]]\n"
     ]
    }
   ],
   "source": [
    "import tensorflow as tf\n",
    "from tensorflow import keras\n",
    "from tensorflow.keras.preprocessing.text import Tokenizer\n",
    "from tensorflow.keras.preprocessing.sequence import pad_sequences\n",
    "\n",
    "sentences = [\n",
    "    'I love my dog',\n",
    "    'I love my cat',\n",
    "    'You love my dog!',\n",
    "    'Do you think my dog is amazing?'\n",
    "]\n",
    "\n",
    "tokenizer = Tokenizer(num_words = 100, oov_token=\"<OOV>\")\n",
    "tokenizer.fit_on_texts(sentences)\n",
    "word_index = tokenizer.word_index\n",
    "\n",
    "sequences = tokenizer.texts_to_sequences(sentences)\n",
    "\n",
    "padded = pad_sequences(sequences, maxlen=5)\n",
    "print(\"\\nWord Index = \" , word_index)\n",
    "print(\"\\nSequences = \" , sequences)\n",
    "print(\"\\nPadded Sequences:\")\n",
    "print(padded)\n",
    "\n",
    "\n",
    "# Try with words that the tokenizer wasn't fit to\n",
    "test_data = [\n",
    "    'i really love my dog',\n",
    "    'my dog loves my manatee'\n",
    "]\n",
    "\n",
    "test_seq = tokenizer.texts_to_sequences(test_data)\n",
    "print(\"\\nTest Sequence = \", test_seq)\n",
    "\n",
    "padded = pad_sequences(test_seq, maxlen=10)\n",
    "print(\"\\nPadded Test Sequence: \")\n",
    "print(padded)"
   ]
  },
  {
   "cell_type": "markdown",
   "id": "6f41c740-1b2d-4d07-820c-1965ae23621f",
   "metadata": {},
   "source": [
    "# Build the model"
   ]
  },
  {
   "cell_type": "code",
   "execution_count": 3,
   "id": "93391bae-08bb-4c0a-bcbe-0a2778211f04",
   "metadata": {},
   "outputs": [],
   "source": [
    "from kaggle.api.kaggle_api_extended import KaggleApi\n",
    "import json\n",
    "import zipfile\n",
    "import os\n",
    "\n",
    "\n",
    "def download_kaggle_json_dataset(dataset, filename, path=\"./\", username=None, key=None, return_data=True):\n",
    "    if username or key:\n",
    "        os.environ['KAGGLE_USERNAME'] = username\n",
    "        os.environ['KAGGLE_KEY'] = key\n",
    "        \n",
    "    api = KaggleApi()\n",
    "    api.authenticate()\n",
    "    print(\"Downloading..\")\n",
    "    api.dataset_download_file(dataset_name, file_name, path=path)\n",
    "\n",
    "    zip_path = os.path.join(path, f'{file_name}.zip')\n",
    "    with zipfile.ZipFile(zip_path, 'r') as zip_ref:\n",
    "        zip_ref.extractall(path)\n",
    "    os.remove(zip_path)\n",
    "\n",
    "    if return_data:\n",
    "        json_path = os.path.join(path, file_name)\n",
    "        with open(json_path, 'r') as file:\n",
    "            data = json.load(file)\n",
    "        return data"
   ]
  },
  {
   "cell_type": "code",
   "execution_count": 6,
   "id": "cfa45905-0541-49f9-8307-e25569aeb4c8",
   "metadata": {},
   "outputs": [],
   "source": [
    "dataset_name = 'rmisra/news-headlines-dataset-for-sarcasm-detection'\n",
    "file_name = 'Sarcasm_Headlines_Dataset_v2.json'\n",
    "path = \"./datasets/\"\n",
    "\n",
    "# data = download_kaggle_json_dataset(dataset_name, file_name, path)"
   ]
  },
  {
   "cell_type": "code",
   "execution_count": 4,
   "id": "1ca1420a-7258-4c39-9139-4b0031a67863",
   "metadata": {},
   "outputs": [],
   "source": [
    "import tensorflow as tf\n",
    "from tensorflow.keras.preprocessing.text import Tokenizer\n",
    "from tensorflow.keras.preprocessing.sequence import pad_sequences"
   ]
  },
  {
   "cell_type": "code",
   "execution_count": 5,
   "id": "7c37e56e-edea-49f9-b382-ac99d44e8875",
   "metadata": {},
   "outputs": [],
   "source": [
    "vocab_size = 10000\n",
    "embedding_dim = 16\n",
    "max_length = 100\n",
    "trunc_type='post'\n",
    "padding_type='post'\n",
    "oov_tok = \"<OOV>\"\n",
    "training_size = 20000"
   ]
  },
  {
   "cell_type": "code",
   "execution_count": 7,
   "id": "e0bd36ea-e31f-4723-b451-3806222e0301",
   "metadata": {},
   "outputs": [],
   "source": [
    "data = []\n",
    "with open(os.path.join(path, file_name), 'r') as file:\n",
    "    for line in file:\n",
    "        data.append(json.loads(line))\n",
    "sentences = []\n",
    "labels = []\n",
    "for item in data:\n",
    "    sentences.append(item['headline'])\n",
    "    labels.append(item['is_sarcastic'])"
   ]
  },
  {
   "cell_type": "code",
   "execution_count": 8,
   "id": "1659a3a7-54c9-41a9-8462-31f3fea476f3",
   "metadata": {},
   "outputs": [],
   "source": [
    "training_sentences = sentences[0:training_size]\n",
    "testing_sentences = sentences[training_size:]\n",
    "training_labels = labels[0:training_size]\n",
    "testing_labels = labels[training_size:]"
   ]
  },
  {
   "cell_type": "code",
   "execution_count": 9,
   "id": "7cc38e36-a82b-4aed-a427-47b687aeb96e",
   "metadata": {},
   "outputs": [],
   "source": [
    "tokenizer = Tokenizer(num_words=vocab_size, oov_token=oov_tok)\n",
    "tokenizer.fit_on_texts(training_sentences)\n",
    "\n",
    "word_index = tokenizer.word_index\n",
    "\n",
    "training_sequences = tokenizer.texts_to_sequences(training_sentences)\n",
    "training_padded = pad_sequences(training_sequences, maxlen=max_length, padding=padding_type, truncating=trunc_type)\n",
    "\n",
    "testing_sequences = tokenizer.texts_to_sequences(testing_sentences)\n",
    "testing_padded = pad_sequences(testing_sequences, maxlen=max_length, padding=padding_type, truncating=trunc_type)"
   ]
  },
  {
   "cell_type": "code",
   "execution_count": 10,
   "id": "753b74ed-c87b-48ac-bd97-86b6a6ee7186",
   "metadata": {},
   "outputs": [],
   "source": [
    "# Need this block to get it to work with TensorFlow 2.x\n",
    "import numpy as np\n",
    "training_padded = np.array(training_padded)\n",
    "training_labels = np.array(training_labels)\n",
    "testing_padded = np.array(testing_padded)\n",
    "testing_labels = np.array(testing_labels)"
   ]
  },
  {
   "cell_type": "code",
   "execution_count": 11,
   "id": "7dc7f4b6-b0fb-4e6b-960c-a820340e7c54",
   "metadata": {},
   "outputs": [
    {
     "name": "stderr",
     "output_type": "stream",
     "text": [
      "C:\\Users\\DELL\\AppData\\Local\\Programs\\Python\\Python312\\Lib\\site-packages\\keras\\src\\layers\\core\\embedding.py:90: UserWarning: Argument `input_length` is deprecated. Just remove it.\n",
      "  warnings.warn(\n"
     ]
    }
   ],
   "source": [
    "model = tf.keras.Sequential([\n",
    "    tf.keras.layers.Embedding(vocab_size, embedding_dim, input_length=max_length),\n",
    "    tf.keras.layers.GlobalAveragePooling1D(),\n",
    "    tf.keras.layers.Dense(24, activation='relu'),\n",
    "    tf.keras.layers.Dense(1, activation='sigmoid')\n",
    "])\n",
    "model.compile(loss='binary_crossentropy',optimizer='adam',metrics=['accuracy'])"
   ]
  },
  {
   "cell_type": "code",
   "execution_count": 12,
   "id": "c66fea5e-b6d5-4d78-a997-70da59a0e59b",
   "metadata": {},
   "outputs": [
    {
     "data": {
      "text/html": [
       "<pre style=\"white-space:pre;overflow-x:auto;line-height:normal;font-family:Menlo,'DejaVu Sans Mono',consolas,'Courier New',monospace\"><span style=\"font-weight: bold\">Model: \"sequential\"</span>\n",
       "</pre>\n"
      ],
      "text/plain": [
       "\u001b[1mModel: \"sequential\"\u001b[0m\n"
      ]
     },
     "metadata": {},
     "output_type": "display_data"
    },
    {
     "data": {
      "text/html": [
       "<pre style=\"white-space:pre;overflow-x:auto;line-height:normal;font-family:Menlo,'DejaVu Sans Mono',consolas,'Courier New',monospace\">┏━━━━━━━━━━━━━━━━━━━━━━━━━━━━━━━━━━━━━━┳━━━━━━━━━━━━━━━━━━━━━━━━━━━━━┳━━━━━━━━━━━━━━━━━┓\n",
       "┃<span style=\"font-weight: bold\"> Layer (type)                         </span>┃<span style=\"font-weight: bold\"> Output Shape                </span>┃<span style=\"font-weight: bold\">         Param # </span>┃\n",
       "┡━━━━━━━━━━━━━━━━━━━━━━━━━━━━━━━━━━━━━━╇━━━━━━━━━━━━━━━━━━━━━━━━━━━━━╇━━━━━━━━━━━━━━━━━┩\n",
       "│ embedding (<span style=\"color: #0087ff; text-decoration-color: #0087ff\">Embedding</span>)                │ ?                           │     <span style=\"color: #00af00; text-decoration-color: #00af00\">0</span> (unbuilt) │\n",
       "├──────────────────────────────────────┼─────────────────────────────┼─────────────────┤\n",
       "│ global_average_pooling1d             │ ?                           │     <span style=\"color: #00af00; text-decoration-color: #00af00\">0</span> (unbuilt) │\n",
       "│ (<span style=\"color: #0087ff; text-decoration-color: #0087ff\">GlobalAveragePooling1D</span>)             │                             │                 │\n",
       "├──────────────────────────────────────┼─────────────────────────────┼─────────────────┤\n",
       "│ dense (<span style=\"color: #0087ff; text-decoration-color: #0087ff\">Dense</span>)                        │ ?                           │     <span style=\"color: #00af00; text-decoration-color: #00af00\">0</span> (unbuilt) │\n",
       "├──────────────────────────────────────┼─────────────────────────────┼─────────────────┤\n",
       "│ dense_1 (<span style=\"color: #0087ff; text-decoration-color: #0087ff\">Dense</span>)                      │ ?                           │     <span style=\"color: #00af00; text-decoration-color: #00af00\">0</span> (unbuilt) │\n",
       "└──────────────────────────────────────┴─────────────────────────────┴─────────────────┘\n",
       "</pre>\n"
      ],
      "text/plain": [
       "┏━━━━━━━━━━━━━━━━━━━━━━━━━━━━━━━━━━━━━━┳━━━━━━━━━━━━━━━━━━━━━━━━━━━━━┳━━━━━━━━━━━━━━━━━┓\n",
       "┃\u001b[1m \u001b[0m\u001b[1mLayer (type)                        \u001b[0m\u001b[1m \u001b[0m┃\u001b[1m \u001b[0m\u001b[1mOutput Shape               \u001b[0m\u001b[1m \u001b[0m┃\u001b[1m \u001b[0m\u001b[1m        Param #\u001b[0m\u001b[1m \u001b[0m┃\n",
       "┡━━━━━━━━━━━━━━━━━━━━━━━━━━━━━━━━━━━━━━╇━━━━━━━━━━━━━━━━━━━━━━━━━━━━━╇━━━━━━━━━━━━━━━━━┩\n",
       "│ embedding (\u001b[38;5;33mEmbedding\u001b[0m)                │ ?                           │     \u001b[38;5;34m0\u001b[0m (unbuilt) │\n",
       "├──────────────────────────────────────┼─────────────────────────────┼─────────────────┤\n",
       "│ global_average_pooling1d             │ ?                           │     \u001b[38;5;34m0\u001b[0m (unbuilt) │\n",
       "│ (\u001b[38;5;33mGlobalAveragePooling1D\u001b[0m)             │                             │                 │\n",
       "├──────────────────────────────────────┼─────────────────────────────┼─────────────────┤\n",
       "│ dense (\u001b[38;5;33mDense\u001b[0m)                        │ ?                           │     \u001b[38;5;34m0\u001b[0m (unbuilt) │\n",
       "├──────────────────────────────────────┼─────────────────────────────┼─────────────────┤\n",
       "│ dense_1 (\u001b[38;5;33mDense\u001b[0m)                      │ ?                           │     \u001b[38;5;34m0\u001b[0m (unbuilt) │\n",
       "└──────────────────────────────────────┴─────────────────────────────┴─────────────────┘\n"
      ]
     },
     "metadata": {},
     "output_type": "display_data"
    },
    {
     "data": {
      "text/html": [
       "<pre style=\"white-space:pre;overflow-x:auto;line-height:normal;font-family:Menlo,'DejaVu Sans Mono',consolas,'Courier New',monospace\"><span style=\"font-weight: bold\"> Total params: </span><span style=\"color: #00af00; text-decoration-color: #00af00\">0</span> (0.00 B)\n",
       "</pre>\n"
      ],
      "text/plain": [
       "\u001b[1m Total params: \u001b[0m\u001b[38;5;34m0\u001b[0m (0.00 B)\n"
      ]
     },
     "metadata": {},
     "output_type": "display_data"
    },
    {
     "data": {
      "text/html": [
       "<pre style=\"white-space:pre;overflow-x:auto;line-height:normal;font-family:Menlo,'DejaVu Sans Mono',consolas,'Courier New',monospace\"><span style=\"font-weight: bold\"> Trainable params: </span><span style=\"color: #00af00; text-decoration-color: #00af00\">0</span> (0.00 B)\n",
       "</pre>\n"
      ],
      "text/plain": [
       "\u001b[1m Trainable params: \u001b[0m\u001b[38;5;34m0\u001b[0m (0.00 B)\n"
      ]
     },
     "metadata": {},
     "output_type": "display_data"
    },
    {
     "data": {
      "text/html": [
       "<pre style=\"white-space:pre;overflow-x:auto;line-height:normal;font-family:Menlo,'DejaVu Sans Mono',consolas,'Courier New',monospace\"><span style=\"font-weight: bold\"> Non-trainable params: </span><span style=\"color: #00af00; text-decoration-color: #00af00\">0</span> (0.00 B)\n",
       "</pre>\n"
      ],
      "text/plain": [
       "\u001b[1m Non-trainable params: \u001b[0m\u001b[38;5;34m0\u001b[0m (0.00 B)\n"
      ]
     },
     "metadata": {},
     "output_type": "display_data"
    }
   ],
   "source": [
    "model.summary()"
   ]
  },
  {
   "cell_type": "code",
   "execution_count": 13,
   "id": "7b994db7-2d51-4edf-8efb-bc10976a871b",
   "metadata": {},
   "outputs": [
    {
     "name": "stdout",
     "output_type": "stream",
     "text": [
      "Epoch 1/30\n",
      "625/625 - 4s - 7ms/step - accuracy: 0.5677 - loss: 0.6784 - val_accuracy: 0.6226 - val_loss: 0.6271\n",
      "Epoch 2/30\n",
      "625/625 - 2s - 3ms/step - accuracy: 0.7675 - loss: 0.5143 - val_accuracy: 0.7996 - val_loss: 0.4377\n",
      "Epoch 3/30\n",
      "625/625 - 2s - 3ms/step - accuracy: 0.8219 - loss: 0.4053 - val_accuracy: 0.8155 - val_loss: 0.4022\n",
      "Epoch 4/30\n",
      "625/625 - 2s - 3ms/step - accuracy: 0.8480 - loss: 0.3559 - val_accuracy: 0.8369 - val_loss: 0.3664\n",
      "Epoch 5/30\n",
      "625/625 - 2s - 3ms/step - accuracy: 0.8724 - loss: 0.3136 - val_accuracy: 0.8404 - val_loss: 0.3576\n",
      "Epoch 6/30\n",
      "625/625 - 2s - 3ms/step - accuracy: 0.8803 - loss: 0.2894 - val_accuracy: 0.8473 - val_loss: 0.3479\n",
      "Epoch 7/30\n",
      "625/625 - 2s - 3ms/step - accuracy: 0.8929 - loss: 0.2650 - val_accuracy: 0.8502 - val_loss: 0.3396\n",
      "Epoch 8/30\n",
      "625/625 - 2s - 3ms/step - accuracy: 0.9002 - loss: 0.2444 - val_accuracy: 0.8139 - val_loss: 0.4210\n",
      "Epoch 9/30\n",
      "625/625 - 2s - 3ms/step - accuracy: 0.9070 - loss: 0.2290 - val_accuracy: 0.8535 - val_loss: 0.3374\n",
      "Epoch 10/30\n",
      "625/625 - 2s - 3ms/step - accuracy: 0.9128 - loss: 0.2167 - val_accuracy: 0.7830 - val_loss: 0.5266\n",
      "Epoch 11/30\n",
      "625/625 - 2s - 3ms/step - accuracy: 0.9171 - loss: 0.2041 - val_accuracy: 0.8242 - val_loss: 0.4164\n",
      "Epoch 12/30\n",
      "625/625 - 2s - 3ms/step - accuracy: 0.9265 - loss: 0.1890 - val_accuracy: 0.8507 - val_loss: 0.3532\n",
      "Epoch 13/30\n",
      "625/625 - 2s - 3ms/step - accuracy: 0.9307 - loss: 0.1779 - val_accuracy: 0.8485 - val_loss: 0.3641\n",
      "Epoch 14/30\n",
      "625/625 - 2s - 3ms/step - accuracy: 0.9345 - loss: 0.1698 - val_accuracy: 0.8515 - val_loss: 0.3641\n",
      "Epoch 15/30\n",
      "625/625 - 2s - 3ms/step - accuracy: 0.9358 - loss: 0.1646 - val_accuracy: 0.8404 - val_loss: 0.3925\n",
      "Epoch 16/30\n",
      "625/625 - 2s - 3ms/step - accuracy: 0.9322 - loss: 0.1672 - val_accuracy: 0.8000 - val_loss: 0.5606\n",
      "Epoch 17/30\n",
      "625/625 - 2s - 3ms/step - accuracy: 0.9338 - loss: 0.1659 - val_accuracy: 0.8383 - val_loss: 0.4048\n",
      "Epoch 18/30\n",
      "625/625 - 2s - 3ms/step - accuracy: 0.9409 - loss: 0.1469 - val_accuracy: 0.8297 - val_loss: 0.4615\n",
      "Epoch 19/30\n",
      "625/625 - 2s - 3ms/step - accuracy: 0.9452 - loss: 0.1406 - val_accuracy: 0.8429 - val_loss: 0.4156\n",
      "Epoch 20/30\n",
      "625/625 - 2s - 3ms/step - accuracy: 0.9492 - loss: 0.1315 - val_accuracy: 0.8423 - val_loss: 0.4280\n",
      "Epoch 21/30\n",
      "625/625 - 2s - 3ms/step - accuracy: 0.9505 - loss: 0.1295 - val_accuracy: 0.8366 - val_loss: 0.4460\n",
      "Epoch 22/30\n",
      "625/625 - 2s - 3ms/step - accuracy: 0.9453 - loss: 0.1421 - val_accuracy: 0.8319 - val_loss: 0.4771\n",
      "Epoch 23/30\n",
      "625/625 - 2s - 3ms/step - accuracy: 0.9541 - loss: 0.1207 - val_accuracy: 0.8238 - val_loss: 0.5282\n",
      "Epoch 24/30\n",
      "625/625 - 2s - 3ms/step - accuracy: 0.9543 - loss: 0.1242 - val_accuracy: 0.8329 - val_loss: 0.4776\n",
      "Epoch 25/30\n",
      "625/625 - 2s - 3ms/step - accuracy: 0.9563 - loss: 0.1155 - val_accuracy: 0.8341 - val_loss: 0.4879\n",
      "Epoch 26/30\n",
      "625/625 - 2s - 3ms/step - accuracy: 0.9550 - loss: 0.1178 - val_accuracy: 0.8270 - val_loss: 0.5277\n",
      "Epoch 27/30\n",
      "625/625 - 2s - 3ms/step - accuracy: 0.9617 - loss: 0.1027 - val_accuracy: 0.8180 - val_loss: 0.5964\n",
      "Epoch 28/30\n",
      "625/625 - 2s - 3ms/step - accuracy: 0.9615 - loss: 0.1025 - val_accuracy: 0.8321 - val_loss: 0.5182\n",
      "Epoch 29/30\n",
      "625/625 - 2s - 3ms/step - accuracy: 0.9613 - loss: 0.1007 - val_accuracy: 0.8234 - val_loss: 0.5691\n",
      "Epoch 30/30\n",
      "625/625 - 2s - 3ms/step - accuracy: 0.9596 - loss: 0.1051 - val_accuracy: 0.8305 - val_loss: 0.5384\n"
     ]
    }
   ],
   "source": [
    "num_epochs = 30\n",
    "history = model.fit(training_padded, \n",
    "                    training_labels, \n",
    "                    epochs=num_epochs, \n",
    "                    validation_data=(testing_padded, testing_labels), \n",
    "                    verbose=2)"
   ]
  },
  {
   "cell_type": "code",
   "execution_count": 14,
   "id": "e283efd7-bfab-4b76-bd2a-f8b8ff42c4ec",
   "metadata": {},
   "outputs": [
    {
     "data": {
      "image/png": "[encoded data removed]",
      "text/plain": [
       "<Figure size 640x480 with 1 Axes>"
      ]
     },
     "metadata": {},
     "output_type": "display_data"
    },
    {
     "data": {
      "image/png": "[encoded data removed]",
      "text/plain": [
       "<Figure size 640x480 with 1 Axes>"
      ]
     },
     "metadata": {},
     "output_type": "display_data"
    }
   ],
   "source": [
    "import matplotlib.pyplot as plt\n",
    "\n",
    "\n",
    "def plot_graphs(history, string):\n",
    "  plt.plot(history.history[string])\n",
    "  plt.plot(history.history['val_'+string])\n",
    "  plt.xlabel(\"Epochs\")\n",
    "  plt.ylabel(string)\n",
    "  plt.legend([string, 'val_'+string])\n",
    "  plt.show()\n",
    "  \n",
    "plot_graphs(history, \"accuracy\")\n",
    "plot_graphs(history, \"loss\")"
   ]
  },
  {
   "cell_type": "code",
   "execution_count": 15,
   "id": "5daf38d9-83d2-459e-8c22-fc726c26b6c9",
   "metadata": {},
   "outputs": [
    {
     "name": "stdout",
     "output_type": "stream",
     "text": [
      "<OOV> scientists unveil doomsday clock of hair loss ? ? ? ? ? ? ? ? ? ? ? ? ? ? ? ? ? ? ? ? ? ? ? ? ? ? ? ? ? ? ? ? ? ? ? ? ? ? ? ? ? ? ? ? ? ? ? ? ? ? ? ? ? ? ? ? ? ? ? ? ? ? ? ? ? ? ? ? ? ? ? ? ? ? ? ? ? ? ? ? ? ? ? ? ? ? ? ? ? ? ? ?\n",
      "eat your veggies: 9 deliciously different recipes\n",
      "0\n"
     ]
    }
   ],
   "source": [
    "reverse_word_index = dict([(value, key) for (key, value) in word_index.items()])\n",
    "\n",
    "def decode_sentence(text):\n",
    "    return ' '.join([reverse_word_index.get(i, '?') for i in text])\n",
    "\n",
    "print(decode_sentence(training_padded[0]))\n",
    "print(training_sentences[2])\n",
    "print(labels[2])"
   ]
  },
  {
   "cell_type": "code",
   "execution_count": 16,
   "id": "ba2df8fb-cc4f-4887-ba29-ad955911762b",
   "metadata": {},
   "outputs": [
    {
     "name": "stdout",
     "output_type": "stream",
     "text": [
      "(10000, 16)\n"
     ]
    }
   ],
   "source": [
    "e = model.layers[0]\n",
    "weights = e.get_weights()[0]\n",
    "print(weights.shape) # shape: (vocab_size, embedding_dim)\n"
   ]
  },
  {
   "cell_type": "code",
   "execution_count": 17,
   "id": "ef40b99d-95fc-457c-84a5-7395697babf0",
   "metadata": {},
   "outputs": [
    {
     "name": "stdout",
     "output_type": "stream",
     "text": [
      "\u001b[1m1/1\u001b[0m \u001b[32m━━━━━━━━━━━━━━━━━━━━\u001b[0m\u001b[37m\u001b[0m \u001b[1m0s\u001b[0m 116ms/step\n",
      "[[0.74701726]\n",
      " [0.00161248]]\n"
     ]
    }
   ],
   "source": [
    "sentence = [\"granny starting to fear spiders in the garden might be real\", \"game of thrones season finale showing this sunday night\"]\n",
    "sequences = tokenizer.texts_to_sequences(sentence)\n",
    "padded = pad_sequences(sequences, maxlen=max_length, padding=padding_type, truncating=trunc_type)\n",
    "print(model.predict(padded))"
   ]
  },
  {
   "cell_type": "markdown",
   "id": "2e73ca25-871b-4222-9866-4dc17a192787",
   "metadata": {},
   "source": [
    "# End"
   ]
  }
 ],
 "metadata": {
  "kernelspec": {
   "display_name": "Python 3 (ipykernel)",
   "language": "python",
   "name": "python3"
  },
  "language_info": {
   "codemirror_mode": {
    "name": "ipython",
    "version": 3
   },
   "file_extension": ".py",
   "mimetype": "text/x-python",
   "name": "python",
   "nbconvert_exporter": "python",
   "pygments_lexer": "ipython3",
   "version": "3.12.4"
  }
 },
 "nbformat": 4,
 "nbformat_minor": 5
}
